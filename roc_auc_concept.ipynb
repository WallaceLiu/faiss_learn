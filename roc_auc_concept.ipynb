{
 "cells": [
  {
   "cell_type": "markdown",
   "metadata": {},
   "source": [
    "# ROC"
   ]
  },
  {
   "cell_type": "markdown",
   "metadata": {},
   "source": [
    "在理解AUC和ROC曲线之前，要理解混淆矩阵. 用来评价一个分类器的好坏。\n",
    "\n",
    "混淆矩阵：\n",
    "\n",
    "-|-|Predict Lable|-\n",
    "---|---|---|---\n",
    "**-**|-|1(True)|0(False)\n",
    "**True Lable**|1(Positive)|True Positive|False Positive\n",
    "**-**|0(Negative)|False Negative|True Negative\n",
    "\n",
    "- 看最后两行：若真实类别为1，则为Positive（阳性）；若真实类别为0，则为Negative（阴性）\n",
    "- 看最后两列：预测正确为True（真），预测错误为False（假）。\n",
    "\n",
    "它们的组合会形成一个混淆矩阵。\n",
    "\n",
    "由此引出True Positive Rate（真阳率）、False Positive（假阳率）两个概念：\n",
    "- $TPR=\\frac{TP}{TP+FN}$ , 表示所有预测类别为1的样本中，真实类别为1的比例。即倒数第二列。\n",
    "- $FPR=\\frac{FP}{FP+TN}$ , 表示所有预测类别为0的样本中，真实类别为1的比例。即倒数第一列。\n",
    "\n",
    "Rate，最大好处是与样本数量无关。"
   ]
  },
  {
   "cell_type": "markdown",
   "metadata": {},
   "source": [
    "# AUC"
   ]
  },
  {
   "cell_type": "markdown",
   "metadata": {},
   "source": [
    "`AUC`即`ROC`曲线下的面积，而ROC曲线的横轴是`FPR`，纵轴是`TPR`."
   ]
  },
  {
   "cell_type": "code",
   "execution_count": 61,
   "metadata": {},
   "outputs": [
    {
     "data": {
      "image/png": "[encoded data removed]",
      "text/plain": [
       "<Figure size 720x288 with 2 Axes>"
      ]
     },
     "metadata": {
      "needs_background": "light"
     },
     "output_type": "display_data"
    }
   ],
   "source": [
    "import matplotlib.pyplot as plt\n",
    "\n",
    "f, axes = plt.subplots(1,2,figsize=(10,4))\n",
    "\n",
    "x_data = [0,1]\n",
    "y_data = [0,1]\n",
    "axes[0].stackplot(x_data,y_data)\n",
    "axes[0].set_xlabel(\"FPR\")\n",
    "axes[0].set_ylabel(\"TPR\")\n",
    "\n",
    "\n",
    "x_data = [0,0.4,1]\n",
    "y_data = [0,0.6,1]\n",
    "axes[1].stackplot(x_data,y_data)\n",
    "axes[1].set_xlabel(\"FPR\")\n",
    "axes[1].set_ylabel(\"TPR\")\n",
    "plt.show()"
   ]
  },
  {
   "cell_type": "markdown",
   "metadata": {},
   "source": [
    "当二者相等时，即y=x，如上图左所示，说明分类器对于正例和负例毫无区分能力，和抛硬币没什么区别，是最差的情况。\n",
    "\n",
    "因此一般来说我们认为AUC的最小值为0.5（当然也存在预测相反这种极端的情况，AUC小于0.5，这种情况相当于分类器总是把对的说成错的，错的认为是对的，那么只要把预测类别取反，便得到了一个AUC大于0.5的分类器）。\n",
    "\n",
    "而我们希望分类器达到的效果是：对于真实类别为1的样本，分类器预测为1的概率（即TPR），要大于真实类别为0而预测类别为1的概率（即FPR），即y＞x.\n",
    "\n",
    "最理想的情况下，既没有真实类别为1而错分为0的样本——TPR一直为1，也没有真实类别为0而错分为1的样本——FPR一直为0，AUC为1，这便是AUC的极大值。"
   ]
  },
  {
   "cell_type": "markdown",
   "metadata": {},
   "source": [
    "AUC的优势，其计算方法同时考虑了分类器对于正例和负例的分类能力，在样本不平衡的情况下，依然能够对分类器作出合理的评价。\n",
    "\n",
    "例如在反欺诈场景，设欺诈类样本为正例，正例占比很少（假设0.1%），如果使用准确率评估，把所有的样本预测为负例，便可以获得99.9%的准确率。但是如果使用AUC，把所有样本预测为负例，TPRate和FPRate同时为0（没有Positive），与(0,0) (1,1)连接，得出AUC仅为0.5，成功规避了样本不均匀带来的问题。"
   ]
  },
  {
   "cell_type": "markdown",
   "metadata": {},
   "source": [
    "# SVM，NB"
   ]
  },
  {
   "cell_type": "markdown",
   "metadata": {},
   "source": [
    "首先, 对于硬分类器（例如SVM，NB），预测类别为离散标签，对于8个样本的预测情况如下：\n",
    "\n",
    "-|-|-|-|-|-|-|-|-\n",
    "---|---|---|---|---|---|---|---|---\n",
    "**真实**|1|1|1|1|0|0|0|0|\n",
    "**预测**|1|0|1|1|0|1|1|0|\n",
    "\n",
    "得到混淆矩阵如下：\n",
    "\n",
    "-|1(True)|0(False)\n",
    "---|---|---\n",
    "**1(Positive)**|3|2\n",
    "**0(Negative)**|1|2\n",
    "\n",
    "进而算得：\n",
    "\n",
    "- $TPR=\\frac{3}{4}$\n",
    "\n",
    "- $FPR=\\frac{2}{4}$"
   ]
  },
  {
   "cell_type": "code",
   "execution_count": 26,
   "metadata": {},
   "outputs": [
    {
     "data": {
      "image/png": "[encoded data removed]",
      "text/plain": [
       "<Figure size 432x288 with 1 Axes>"
      ]
     },
     "metadata": {
      "needs_background": "light"
     },
     "output_type": "display_data"
    }
   ],
   "source": [
    "import matplotlib.pyplot as plt\n",
    "\n",
    "x_data = [0,0.5,1]\n",
    "y_data = [0,3/4,1]\n",
    "\n",
    "plt.stackplot(x_data,y_data)\n",
    "plt.plot([0, 1], [0, 1], color='navy',  linestyle='--')\n",
    "plt.xlabel(\"FPR\")\n",
    "plt.ylabel(\"TPR\")\n",
    "plt.show()"
   ]
  },
  {
   "cell_type": "code",
   "execution_count": 31,
   "metadata": {},
   "outputs": [
    {
     "name": "stdout",
     "output_type": "stream",
     "text": [
      "[[0.   0.  ]\n",
      " [0.5  0.75]\n",
      " [1.   1.  ]\n",
      " [1.   0.  ]]\n",
      "-0.625\n"
     ]
    }
   ],
   "source": [
    "import numpy as np\n",
    "\n",
    "def coss_multi(v1, v2):\n",
    "    \"\"\"\n",
    "    计算两个向量的叉乘\n",
    "    :param v1:\n",
    "    :param v2:\n",
    "    :return:\n",
    "    \"\"\"\n",
    "    return v1[0]*v2[1] - v1[1]*v2[0]\n",
    " \n",
    "def polygon_area(polygon):\n",
    "    \"\"\"\n",
    "    计算多边形的面积，支持非凸情况\n",
    "    :param polygon: 多边形顶点，已经进行顺次逆时针排序\n",
    "    :return: 该多边形的面积\n",
    "    \"\"\"\n",
    "    n = len(polygon)\n",
    " \n",
    "    if n < 3:\n",
    "        return 0\n",
    " \n",
    "    vectors = np.zeros((n, 2))\n",
    "    for i in range(0, n):\n",
    "        vectors[i, :] = polygon[i, :] - polygon[0, :]\n",
    " \n",
    "    area = 0\n",
    "    for i in range(1, n):\n",
    "        area = area + coss_multi(vectors[i-1, :], vectors[i, :]) / 2\n",
    " \n",
    "    return area\n",
    "\n",
    "\n",
    "arr=[[x,y] for x,y in zip(x_data,y_data)]\n",
    "arr.append([1,0])\n",
    "polygon1 = np.array(arr)\n",
    "print(polygon1)\n",
    "print(polygon_area(polygon1))"
   ]
  },
  {
   "cell_type": "markdown",
   "metadata": {},
   "source": [
    "最终得到AUC为0.625。"
   ]
  },
  {
   "cell_type": "markdown",
   "metadata": {},
   "source": [
    "# LR"
   ]
  },
  {
   "cell_type": "markdown",
   "metadata": {},
   "source": [
    "对于LR等预测类别为概率的分类器，依然用上述例子，假设预测结果如下：\n",
    "\n",
    "-|-|-|-|-|-|-|-|-\n",
    "---|---|---|---|---|---|---|---|---\n",
    "**真实**|1|1|1|1|0|0|0|0|\n",
    "**预测**|0.8|0.3|0.9|0.6|0.1|0.5|0.7|0.2|\n",
    "\n",
    "设置阈值就能得到混淆矩阵。不同的阈值会影响得到的TPR，FPR。如果阈值取0.5，小于0.5的为0，否则为1，那么就可以得到前面的混淆矩阵。\n",
    "\n",
    "依次把所有预测值作为阈值，得到一系列TPR，FPR，描点，求面积，即可得到AUC。"
   ]
  },
  {
   "cell_type": "code",
   "execution_count": 82,
   "metadata": {},
   "outputs": [
    {
     "name": "stdout",
     "output_type": "stream",
     "text": [
      "fpr [0.   0.   0.   0.25 0.25 0.5  0.5  1.  ]\n",
      "tpr [0.   0.25 0.5  0.5  0.75 0.75 1.   1.  ]\n",
      "thresholds [1.9 0.9 0.8 0.7 0.6 0.5 0.3 0.1]\n"
     ]
    }
   ],
   "source": [
    "# roc\n",
    "import numpy as np\n",
    "from sklearn import metrics\n",
    "\n",
    "y = np.array([1,1,1,1,0,0,0,0])  #实际值\n",
    "scores = np.array([0.8,0.3,0.9,0.6,0.1,0.5,0.7,0.2]) #预测值\n",
    "fpr, tpr, thresholds = metrics.roc_curve(y, scores, pos_label=1) #pos_label=1，表示值为2的实际值为正样本\n",
    "print('fpr',fpr)\n",
    "print('tpr',tpr)\n",
    "print('thresholds',thresholds)"
   ]
  },
  {
   "cell_type": "code",
   "execution_count": 86,
   "metadata": {},
   "outputs": [
    {
     "data": {
      "image/png": "[encoded data removed]",
      "text/plain": [
       "<Figure size 432x288 with 1 Axes>"
      ]
     },
     "metadata": {
      "needs_background": "light"
     },
     "output_type": "display_data"
    }
   ],
   "source": [
    "import matplotlib.pyplot as plt\n",
    "\n",
    "plt.plot(fpr,tpr,color='blue',linewidth=3.0,linestyle='-.')\n",
    "plt.xlabel(\"FPR\")\n",
    "plt.ylabel(\"TPR\")\n",
    "plt.show()"
   ]
  },
  {
   "cell_type": "code",
   "execution_count": 84,
   "metadata": {},
   "outputs": [
    {
     "data": {
      "text/plain": [
       "0.8125"
      ]
     },
     "execution_count": 84,
     "metadata": {},
     "output_type": "execute_result"
    }
   ],
   "source": [
    "# auc\n",
    "import numpy as np\n",
    "from sklearn.metrics import roc_auc_score\n",
    "\n",
    "y_true = np.array([1,1,1,1,0,0,0,0])\n",
    "y_scores = np.array([0.8,0.3,0.9,0.6,0.1,0.5,0.7,0.2])\n",
    "roc_auc_score(y_true, y_scores)"
   ]
  },
  {
   "cell_type": "code",
   "execution_count": null,
   "metadata": {},
   "outputs": [],
   "source": []
  }
 ],
 "metadata": {
  "kernelspec": {
   "display_name": "Python 3",
   "language": "python",
   "name": "python3"
  },
  "language_info": {
   "codemirror_mode": {
    "name": "ipython",
    "version": 3
   },
   "file_extension": ".py",
   "mimetype": "text/x-python",
   "name": "python",
   "nbconvert_exporter": "python",
   "pygments_lexer": "ipython3",
   "version": "3.7.5"
  }
 },
 "nbformat": 4,
 "nbformat_minor": 4
}

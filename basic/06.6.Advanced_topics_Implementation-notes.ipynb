{
 "cells": [
  {
   "cell_type": "markdown",
   "metadata": {},
   "source": [
    "# Implementation notes\n",
    "https://github.com/facebookresearch/faiss/wiki/Implementation-notes"
   ]
  },
  {
   "cell_type": "markdown",
   "metadata": {},
   "source": [
    "Here are a few notes on implementation details for which we sometimes get questions. We describe the tradeoffs and maybe a few unexpected design choices or results.\n",
    "\n",
    "# Matrix multiplication to do many L2 distance computations\n",
    "A typical operation in IndexFlatL2 is to exhaustively compare a set of nq query vectors and a set of nb database vectors in dimension d (then select the top-k smallest vectors).\n",
    "\n",
    "Faiss has two implementations of this operation:\n",
    "\n",
    "direct implementation that loops over nq, nb and the dimension of the vectors.\n",
    "\n",
    "an implementation that uses the decomposition d(x, y) = ||x||^2 + ||y||^2 - 2 * <x, y>. This is faster because the most expensive operation in O(nq * nb * d) can be handed over to BLAS that normally does this efficiently.\n",
    "\n",
    "We use implementation 1 when nq < 20 and d is a multiple of 4, and implementation 2 otherwise. The threshold 20 can be adjusted via global variable faiss::distance_compute_bias_threshold (accessible in Python via faiss.cvar.distance_compute_bias_threshold).\n",
    "\n",
    "Note that solution 2 may be less stable numerically than 1 for vectors of very different magnitudes, see discussion in issue #297.\n",
    "\n",
    "# k-means implementation\n",
    "k-means is implemented in the Clustering object\n",
    "\n",
    "After initialization, the k-means iterates two operations:\n",
    "\n",
    "assign training points to centroids\n",
    "\n",
    "recompute centroids as the center of mass of the points they are assigned to.\n",
    "\n",
    "In terms of performance, the first operation is the most costly (by far). Incidentally, it can be performed by any index, since it is a nearest-neighbor search of the vectors to the centroids. Therefore the index is a parameter of the Clustering train method. It can be replaced with a GPU index (example) or a HNSW index (example).\n",
    "\n",
    "# Precomputed tables in IVFPQ\n",
    "PQ search boils down to doing look-ups in distance tables (as explained in the original paper “Product quantization for nearest neighbor search”).\n",
    "\n",
    "For the IVFPQ, an additional level of pre-computation can be done to speed up the construction of these tables. This is explained in \"Billion-scale similarity search with GPUs\", section 5.2. There is a tradeoff between memory usage to store the additional tables and speed:\n",
    "\n",
    "on CPU, it is governed by IndexIVFPQ.use_precomputed_table. It takes 4 possible values: -1=disable, 0=decide heuristically (default: use tables only if they are < IndexIVFPQ::precomputed_tables_max_bytes, set to 2GB by default); 1=enable (size 256 * nlist * M); 2=specific version for the MultiIndexQuantizer that is much more compact. Calling precompute_table() takes use_precomputed_table into account and updates the data for the next search.\n",
    "\n",
    "on GPU, precomputed tables are enabled if the GpuIndexIVFConfig::usePrecomputedTables is set to true at construction. The setting can be changed at runtime with GpuIndexIVF::setPrecomputedCodes(bool enable).\n",
    "\n",
    "# PCA matrix computation\n",
    "The PCA matrix is computed by:\n",
    "\n",
    "if there are more training points than dimensions: compute the covariance matrix, then use the LAPACK dsyev to extract the eigenvalues and vectors.\n",
    "\n",
    "if there are more dimensions than training points: compute the Gram matrix (pairwise dot products of training vectors), and extract the eigenvalues and vectors from that.\n",
    "\n",
    "# Statistics for non-exhaustive search\n",
    "Non-exhaustive search means that only part of the database vectors are compared with. This is the case with IndexIVF variants and IndexHSNW variants.\n",
    "\n",
    "The number of distances that are effectively computed are collected in global variables. For IndexIVF this is indexIVF_stats.ndis, for HNSW it is hnsw_stats.ndis.\n",
    "\n",
    "To access the variables in Python, just prefix with faiss.cvar, eg. faiss.cvar.indexIVF_stats.ndis will contain the number of distances computed so far."
   ]
  },
  {
   "cell_type": "code",
   "execution_count": null,
   "metadata": {},
   "outputs": [],
   "source": []
  }
 ],
 "metadata": {
  "kernelspec": {
   "display_name": "Python 3",
   "language": "python",
   "name": "python3"
  },
  "language_info": {
   "codemirror_mode": {
    "name": "ipython",
    "version": 3
   },
   "file_extension": ".py",
   "mimetype": "text/x-python",
   "name": "python",
   "nbconvert_exporter": "python",
   "pygments_lexer": "ipython3",
   "version": "3.7.5"
  }
 },
 "nbformat": 4,
 "nbformat_minor": 2
}

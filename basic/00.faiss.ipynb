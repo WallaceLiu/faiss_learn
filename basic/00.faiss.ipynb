{
 "cells": [
  {
   "cell_type": "markdown",
   "metadata": {},
   "source": [
    "https://github.com/facebookresearch/faiss/wiki"
   ]
  },
  {
   "cell_type": "markdown",
   "metadata": {},
   "source": [
    "# Faiss\n",
    "Faiss是一个`相似性搜索`和`稠密向量集合聚类`的库. 它包含的算法可以在任何大小的向量集合上进行搜索, 直到可能在内存里放不下. 它还包含用于评估和调优的支持代码. \n",
    "\n",
    "Faiss由C++编写，并提供完全的 Python (versions 2 and 3)封装. 一些最有用的算法还在GPU上实现. 由[Facebook AI Research](https://research.fb.com/category/facebook-ai-research-fair/)开发."
   ]
  },
  {
   "cell_type": "markdown",
   "metadata": {},
   "source": [
    "# What is similarity search?\n",
    "对于一个`d`维度向量集合`x_i`, Faiss在内存中构建一个数据结构. 当结构被构建后, 给定一个`d`维度的向量`x`, 就可以有效地执行如下操作:\n",
    "\n",
    "`i = argmin_i ||x - x_i||`\n",
    "\n",
    "其中，`||.||` is the Euclidean distance (L2).\n",
    "\n",
    "> arg是变元（即自变量argument）的英文缩写。\n",
    "\n",
    "如果是Faiss术语，数据结构就是一个索引, 是一个对象，具有`add`方法，把`x_i`添加到向量集合. 备注，假设x_i是固定的。\n",
    "\n",
    "Computing the argmin is the search operation on the index.\n",
    "\n",
    "这就是Faiss的全部. 另外:\n",
    "\n",
    "- 不仅返回最相似的近邻, 也返回第2个, 第3个, ..., 第k个近邻\n",
    "- 一次可以搜索很多向量，而不是一个(批处理). 对许多索引类型来说, 这比一个接一个地搜索要快\n",
    "- 用精度换速度。例如，使用一个速度快10倍或内存少10倍的方法，在10%的情况下给出错误的结果\n",
    "- perform maximum inner product search argmax_i <x, x_i> instead of minimum Euclidean search. There is also limited support for other distances (L1, Linf, etc.).\n",
    "- 返回给定查询点的半径内的所有元素(range search)\n",
    "- 可以把索引保存在磁盘上，而不是内存."
   ]
  },
  {
   "cell_type": "markdown",
   "metadata": {},
   "source": [
    "# Research foundations of Faiss\n",
    "Faiss是基于近几年的研究结果. Most notably it implements:\n",
    "\n",
    "- The inverted file from [“Video google: A text retrieval approach to object matching in videos.”](http://ieeexplore.ieee.org/abstract/document/1238663/), Sivic & Zisserman, ICCV 2003. This is the key to non-exhaustive search in large datasets. Otherwise all searches would need to scan all elements in the index, which is prohibitive even if the operation to apply for each element is fast\n",
    "\n",
    "- The product quantization (PQ) method from [“Product quantization for nearest neighbor search”](https://hal.inria.fr/inria-00514462v2/document), Jégou & al., PAMI 2011. This can be seen as a lossy compression technique for high-dimensional vectors, that allows relatively accurate reconstructions and distance computations in the compressed domain.\n",
    "\n",
    "- The three-level quantization (IVFADC-R aka IndexIVFPQR) method from [\"Searching in one billion vectors: re-rank with source coding\"](https://arxiv.org/pdf/1102.3828), Tavenard & al., ICASSP'11.\n",
    "\n",
    "- The inverted multi-index from [“The inverted multi-index”](http://ieeexplore.ieee.org/abstract/document/6248038/), Babenko & Lempitsky, CVPR 2012. This method greatly improves the speed of inverted indexing for fast/less accurate operating points.\n",
    "\n",
    "- The optimized PQ from [“Optimized product quantization”](http://ieeexplore.ieee.org/abstract/document/6678503/), He & al, CVPR 2013. This method can be seen as a linear transformation of the vector space to make it more amenable for indexing with a product quantizer.\n",
    "\n",
    "- The pre-filtering of product quantizer distances from [“Polysemous codes”](http://link.springer.com/chapter/10.1007/978-3-319-46475-6_48), Douze & al., ECCV 2016. This technique performs a binary filtering stage before computing PQ distances.\n",
    "\n",
    "- The GPU implementation and fast k-selection is described in [“Billion-scale similarity search with GPUs”](https://arxiv.org/abs/1702.08734), Johnson & al, ArXiv 1702.08734, 2017\n",
    "\n",
    "- The HNSW indexing method from [\"Efficient and robust approximate nearest neighbor search using Hierarchical Navigable Small World graphs\"](https://arxiv.org/abs/1603.09320), Malkov & al., ArXiv 1603.09320, 2016\n",
    "\n",
    "A general paper about product quantization and related methods: [\"A Survey of Product Quantization\"](https://www.jstage.jst.go.jp/article/mta/6/1/6_2/_pdf), Yusuke Matsui, Yusuke Uchida, Hervé Jégou, Shin’ichi Satoh, ITE transactions on MTA, 2018.\n",
    "\n",
    "The overview image below is from that paper (click on the image to enlarge it):\n",
    "\n",
    "\n",
    "\n",
    "Methods that are implemented in Faiss are highlighted in red.\n",
    "\n",
    "Key to all references\n",
    "Image credit: Yusuke Matsui, thanks for allowing us to use it!"
   ]
  },
  {
   "cell_type": "markdown",
   "metadata": {},
   "source": [
    "# This wiki\n",
    "This wiki contains high-level information about Faiss and a tutorial. Navigate it using the sidebar.\n",
    "\n",
    "Most examples are in Python for brievity, but the C++ API is exactly the same, so the translation for one to the other is trivial most of the times."
   ]
  },
  {
   "cell_type": "code",
   "execution_count": null,
   "metadata": {},
   "outputs": [],
   "source": []
  }
 ],
 "metadata": {
  "kernelspec": {
   "display_name": "Python 3",
   "language": "python",
   "name": "python3"
  },
  "language_info": {
   "codemirror_mode": {
    "name": "ipython",
    "version": 3
   },
   "file_extension": ".py",
   "mimetype": "text/x-python",
   "name": "python",
   "nbconvert_exporter": "python",
   "pygments_lexer": "ipython3",
   "version": "3.7.5"
  }
 },
 "nbformat": 4,
 "nbformat_minor": 2
}

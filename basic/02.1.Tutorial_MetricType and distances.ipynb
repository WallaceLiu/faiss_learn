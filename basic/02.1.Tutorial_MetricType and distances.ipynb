{
 "cells": [
  {
   "cell_type": "markdown",
   "metadata": {},
   "source": [
    "# MetricType and distances\n",
    "\n",
    "https://github.com/facebookresearch/faiss/wiki/MetricType-and-distances\n",
    "\n",
    "\n",
    "Matthijs Douze https://gist.github.com/mdouze"
   ]
  },
  {
   "cell_type": "markdown",
   "metadata": {},
   "source": [
    "# Notes on MetricType and distances\n",
    "Faiss主要支持两种索引方法, `L2` 和 `inner product`. Others are supported by `IndexFlat`.\n",
    "\n",
    "完整metrics列表, 参看: [here](https://github.com/facebookresearch/faiss/blob/master/Index.h#L44)."
   ]
  },
  {
   "cell_type": "markdown",
   "metadata": {},
   "source": [
    "# METRIC_L2\n",
    "Faiss使用`squared Euclidean (L2) distance`欧氏距离的平方, 避开了平方根. 但这仍然是一个单调（monotonic）的Euclidean distance, 因此，如果需要准确的距离，需要自己开方."
   ]
  },
  {
   "cell_type": "markdown",
   "metadata": {},
   "source": [
    "# METRIC_INNER_PRODUCT\n",
    "这通常用于最大程度的内积搜索（This is typically used for maximum inner product search）. 除非向量被归一化（normalized），否则它本身不是cosine similarity(位于一个单位超球面的表面上; 参见下面see cosine similarity).\n",
    "\n",
    "> cosine similarity 范围是[0,1]，只有归一化，才能落在这个范围。\n",
    ">\n",
    "> 也就是说，只有把向量归一化，内积和cosine，才能相近。"
   ]
  },
  {
   "cell_type": "markdown",
   "metadata": {},
   "source": [
    "# How can I index vectors for cosine similarity?\n",
    "如何用cosine similarity来索引向量:\n",
    "\n",
    "- build an index with `METRIC_INNER_PRODUCT`\n",
    "- normalize the vectors prior to adding them to the index (with `faiss.normalize_L2` in Python)\n",
    "- normalize the vectors prior to searching them\n",
    "\n",
    "> 用`METRIC_INNER_PRODUCT`参数来构建索引，然后再add和search前，需要先把向量归一化。\n",
    "\n",
    "Note that this is equivalent to using an index with `METRIC_L2`, except that the distances are related by d_L2^2 = 2 - 2 * d_IP."
   ]
  },
  {
   "cell_type": "markdown",
   "metadata": {},
   "source": [
    "# Additional metrics\n",
    "`IndexFlat`还支持其他的metrics, `GpuIndexFlat`稍后也会支持.\n",
    "\n",
    "支持[METRIC_L1](https://en.wikipedia.org/wiki/Taxicab_geometry), [METRIC_Linf](https://en.wikipedia.org/wiki/Chebyshev_distance) and [METRIC_Lp](https://en.wikipedia.org/wiki/Lp_space). METRIC_Lp includes use of `Index::metric_arg` (C++) / `index.metric_arg` (Python) to set the power.\n",
    "\n",
    "还支持[METRIC_Canberra](https://en.wikipedia.org/wiki/Canberra_distance), [METRIC_BrayCurtis](https://docs.scipy.org/doc/scipy/reference/generated/scipy.spatial.distance.braycurtis.html) and [METRIC_JensenShannon](https://en.wikipedia.org/wiki/Jensen%E2%80%93Shannon_divergence). For Mahalanobis see below."
   ]
  },
  {
   "cell_type": "markdown",
   "metadata": {},
   "source": [
    "# How can I index vectors for Mahalanobis distance?\n",
    "The [Mahalanobis distance](https://en.wikipedia.org/wiki/Mahalanobis_distance) is equivalent to L2 distance in a transformed space. To transform to that space:\n",
    "\n",
    "- compute the covariance matrix of the data\n",
    "- multiply all vectors (query and database) by the inverse of the Cholesky decomposition of the covariance matrix.\n",
    "- index in a METRIC_L2 index.\n",
    "Example here: [mahalnobis_to_L2.ipynb](https://gist.github.com/mdouze/6cc12fa967e5d9911580ef633e559476)"
   ]
  },
  {
   "cell_type": "code",
   "execution_count": 3,
   "metadata": {},
   "outputs": [
    {
     "name": "stdout",
     "output_type": "stream",
     "text": [
      "(1000, 16)\n"
     ]
    },
    {
     "data": {
      "image/png": "[encoded data removed]",
      "text/plain": [
       "<Figure size 432x288 with 1 Axes>"
      ]
     },
     "metadata": {
      "needs_background": "light"
     },
     "output_type": "display_data"
    }
   ],
   "source": [
    "import numpy as np\n",
    "import faiss\n",
    "from matplotlib import pyplot\n",
    "\n",
    "# generate data\n",
    "\n",
    "# different variance in each dimension\n",
    "x0 = faiss.randn((1000, 16)) * (1.2 ** -np.arange(16))\n",
    "\n",
    "print(x0.shape)\n",
    "\n",
    "# random rotation\n",
    "R, _ = np.linalg.qr(faiss.randn((16, 16)))   \n",
    "x = np.dot(x0, R).astype('float32')\n",
    "\n",
    "# compute and visualize the covariance matrix\n",
    "xc = x - x.mean(0)\n",
    "cov = np.dot(xc.T, xc) / xc.shape[0]\n",
    "_ = pyplot.imshow(cov)"
   ]
  },
  {
   "cell_type": "markdown",
   "metadata": {},
   "source": [
    "How to whiten data with Faiss and compute Mahalnobis distance: [demo_whitening.ipynb](https://gist.github.com/mdouze/33fc39927c343c4ca003f1d8f5a412ef)"
   ]
  },
  {
   "cell_type": "code",
   "execution_count": null,
   "metadata": {},
   "outputs": [],
   "source": [
    "import numpy as np\n",
    "import faiss\n",
    "from matplotlib import pyplot\n",
    "\n",
    "# Generate a random matrix with Gaussian distribution\n",
    "rs = np.random.RandomState(123)\n",
    "\n",
    "d = 10\n",
    "n = 10000\n",
    "\n",
    "# Gaussian, identity covariance, mean 0\n",
    "xnorm = rs.randn(n, d)\n",
    "\n",
    "# Gaussian, general\n",
    "x = xnorm @ rs.rand(d, d) + rs.rand(d)\n",
    "\n",
    "# convert to float for Faiss\n",
    "x = x.astype('float32')\n",
    "\n",
    "# Train PCA with whitening\n",
    "whiten = faiss.PCAMatrix(d, d, -0.5)\n",
    "whiten.train(x)\n",
    "\n",
    "# look at eigenvalues\n",
    "faiss.vector_to_array(whiten.eigenvalues)\n",
    "\n",
    "# apply whitening\n",
    "xt = whiten.apply_py(x)"
   ]
  },
  {
   "cell_type": "code",
   "execution_count": null,
   "metadata": {},
   "outputs": [],
   "source": [
    "# search on original vectors\n",
    "index = faiss.IndexFlatL2(d)\n",
    "index.add(x)\n",
    "index.search(x[:3], 4)[1]"
   ]
  },
  {
   "cell_type": "code",
   "execution_count": null,
   "metadata": {},
   "outputs": [],
   "source": [
    "# search on whitened vectors\n",
    "index = faiss.IndexFlatL2(d)\n",
    "index.add(xt)\n",
    "index.search(xt[:3], 4)[1]"
   ]
  },
  {
   "cell_type": "code",
   "execution_count": null,
   "metadata": {},
   "outputs": [],
   "source": [
    "# search in Gaussian space with identity covariance\n",
    "index = faiss.IndexFlatL2(d)\n",
    "index.add(xnorm.astype('float32'))\n",
    "index.search(xnorm[:3].astype('float32'), 4)[1]"
   ]
  },
  {
   "cell_type": "markdown",
   "metadata": {},
   "source": [
    "The results should be the same in the whitened space as with identity covariance."
   ]
  },
  {
   "cell_type": "markdown",
   "metadata": {},
   "source": [
    "Degenerate example"
   ]
  },
  {
   "cell_type": "code",
   "execution_count": null,
   "metadata": {},
   "outputs": [],
   "source": [
    "# make rank-deficient matrix\n",
    "M = rs.rand(d, d)\n",
    "M[1] = M[0]\n",
    "\n",
    "x = xnorm @ M + rs.rand(d)\n",
    "x = x.astype('float32')\n",
    "whiten = faiss.PCAMatrix(d, d, -0.5)\n",
    "whiten.train(x)\n",
    "\n",
    "print(faiss.vector_to_array(whiten.eigenvalues))\n",
    "xt = whiten.apply_py(x)"
   ]
  },
  {
   "cell_type": "code",
   "execution_count": null,
   "metadata": {},
   "outputs": [],
   "source": [
    "index = faiss.IndexFlatL2(d)\n",
    "index.add(xt)\n",
    "index.search(xt[:3], 4)[1]"
   ]
  },
  {
   "cell_type": "markdown",
   "metadata": {},
   "source": [
    "Note that the results are now different. The last eigenvalue should be 0, but to numerical approximations it is +/- epsilon. If the sign happens to be negative, the result is even worse. In practice, it is best to restrict the output dimension to exclude too small eigenvalues: build the PCAMatrix with an output dimension smaller than d."
   ]
  },
  {
   "cell_type": "markdown",
   "metadata": {},
   "source": [
    "# How can I do max Inner Product search on indexes that support only L2?\n",
    "Vectors can be transformed by adding one dimension so that max IP search becomes equivalent to L2 search. See http://ulrichpaquet.com/Papers/SpeedUp.pdf section 3 that transforms inner product computations into L2 distance computations. See an implementation here [demo_IP_to_L2.ipynb](https://gist.github.com/mdouze/e4bdb404dbd976c83fe447e529e5c9dc).\n",
    "\n",
    "Note however that while mathematically equivalent, this may not interact well with quantization."
   ]
  },
  {
   "cell_type": "code",
   "execution_count": null,
   "metadata": {},
   "outputs": [],
   "source": [
    "import numpy as np\n",
    "import faiss"
   ]
  },
  {
   "cell_type": "code",
   "execution_count": null,
   "metadata": {},
   "outputs": [],
   "source": [
    "nq = 100\n",
    "nb = 1000\n",
    "d = 32\n",
    "\n",
    "xq = faiss.randn((nq, d))\n",
    "xb = faiss.randn((nb, d))"
   ]
  },
  {
   "cell_type": "code",
   "execution_count": null,
   "metadata": {},
   "outputs": [],
   "source": [
    "# reference IP search\n",
    "k = 10\n",
    "index = faiss.IndexFlatIP(d)\n",
    "index.add(xb)\n",
    "Dref, Iref = index.search(xq, k)"
   ]
  },
  {
   "cell_type": "code",
   "execution_count": null,
   "metadata": {},
   "outputs": [],
   "source": [
    "# see http://ulrichpaquet.com/Papers/SpeedUp.pdf theorem 5\n",
    "\n",
    "def get_phi(xb): \n",
    "    return (xb ** 2).sum(1).max()\n",
    "\n",
    "def augment_xb(xb, phi=None): \n",
    "    norms = (xb ** 2).sum(1)\n",
    "    if phi is None: \n",
    "        phi = norms.max()\n",
    "    extracol = np.sqrt(phi - norms)\n",
    "    return np.hstack((xb, extracol.reshape(-1, 1)))\n",
    "\n",
    "def augment_xq(xq): \n",
    "    extracol = np.zeros(len(xq), dtype='float32')\n",
    "    return np.hstack((xq, extracol.reshape(-1, 1)))"
   ]
  },
  {
   "cell_type": "code",
   "execution_count": null,
   "metadata": {},
   "outputs": [],
   "source": [
    "# reference IP search\n",
    "k = 10\n",
    "index = faiss.IndexFlatL2(d + 1)\n",
    "index.add(augment_xb(xb))\n",
    "D, I = index.search(augment_xq(xq), k)"
   ]
  },
  {
   "cell_type": "code",
   "execution_count": null,
   "metadata": {},
   "outputs": [],
   "source": [
    "np.all(I == Iref)"
   ]
  }
 ],
 "metadata": {
  "kernelspec": {
   "display_name": "Python 3",
   "language": "python",
   "name": "python3"
  },
  "language_info": {
   "codemirror_mode": {
    "name": "ipython",
    "version": 3
   },
   "file_extension": ".py",
   "mimetype": "text/x-python",
   "name": "python",
   "nbconvert_exporter": "python",
   "pygments_lexer": "ipython3",
   "version": "3.7.5"
  },
  "pycharm": {
   "stem_cell": {
    "cell_type": "raw",
    "metadata": {
     "collapsed": false
    },
    "source": []
   }
  }
 },
 "nbformat": 4,
 "nbformat_minor": 2
}

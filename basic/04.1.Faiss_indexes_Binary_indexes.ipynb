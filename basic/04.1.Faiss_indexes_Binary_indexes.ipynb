{
 "cells": [
  {
   "cell_type": "markdown",
   "metadata": {},
   "source": [
    "# Binary indexes\n",
    "\n",
    "https://github.com/facebookresearch/faiss/wiki/Binary-indexes"
   ]
  },
  {
   "cell_type": "markdown",
   "metadata": {},
   "source": [
    "# Overview\n",
    "Faiss 支持用`IndexBinaryFlat`和`IndexBinaryIVF`（它们都继承`IndexBinary`）索引 binary vectors (with `Hamming distance`) natively.\n",
    "\n",
    "这写索引以`字节数组`形式保存向量集合, 因此，大小为`d`的向量在内存中仅占用`d/8`字节. 注意，此时, 只支持8的倍数的向量集合. 当然, 如果需要，你可以对向量进行舍入.\n",
    "\n",
    "`add()`和`search()`方法输入参数也是字节数组(\"uint8_t\" in C++, \"uint8\" in numpy).\n",
    "\n",
    "汉明距离（Hamming distance）的计算是通过`popcount CPU指令`进行优化."
   ]
  },
  {
   "cell_type": "markdown",
   "metadata": {},
   "source": [
    "# IndexBinaryFlat\n",
    "\"flat\"二进制索引执行穷举搜索.\n",
    "\n",
    "穷举搜索是经过精心优化的，特别是针对256位向量，这是很常见的.\n",
    "\n",
    "Batching被应用在查询和数据库端，避免缓存丢失.\n",
    "\n",
    "The values of hamming_batch_size and faiss::IndexBinaryFlat#query_batch_size can be customized to adjust the batch sizes but the default values were found to be close to optimal for a large range of settings."
   ]
  },
  {
   "cell_type": "markdown",
   "metadata": {},
   "source": [
    "```\n",
    "import faiss\n",
    "\n",
    "# Dimension of the vectors.\n",
    "d = 256\n",
    "\n",
    "# Vectors to be indexed, each represented by d / 8 bytes, layed out sequentially,\n",
    "# i.e. the i-th vector starts at db[i * (d / 8)].\n",
    "db = ...\n",
    "\n",
    "# Vectors to be queried from the index.\n",
    "queries = ...\n",
    "\n",
    "# Initializing index.\n",
    "index = faiss.IndexBinaryFlat(d)\n",
    "\n",
    "# Adding the database vectors.\n",
    "index.add(db)\n",
    "\n",
    "# Number of nearest neighbors to retrieve per query vector.\n",
    "k = ...;\n",
    "\n",
    "# Querying the index\n",
    "D, I = index.search(queries, k)\n",
    "\n",
    "# D[i, j] contains the distance from the i-th query vector to its j-th nearest neighbor.\n",
    "# I[i, j] contains the id of the j-th nearest neighbor of the i-th query vector.\n",
    "```"
   ]
  },
  {
   "cell_type": "markdown",
   "metadata": {},
   "source": [
    "# IndexBinaryIVF\n",
    "The \"IVF\" (Inverse Vector File) flavor speeds up the search by clustering the vectors. This clustering is done using a second (binary) index for quantization (usually a flat index). This is equivalent to the IndexIVFFlat of the floating-point indexes."
   ]
  },
  {
   "cell_type": "markdown",
   "metadata": {},
   "source": [
    "```\n",
    "import faiss\n",
    "\n",
    "# Dimension of the vectors.\n",
    "d = 256\n",
    "\n",
    "# Vectors to be indexed, each represented by d / 8 bytes, layed out sequentially,\n",
    "# i.e. the i-th vector starts at db[i * (d / 8)].\n",
    "db = ...\n",
    "\n",
    "# Vectors to train the quantizer.\n",
    "training = ...\n",
    "\n",
    "# Vectors to be queried from the index.\n",
    "queries = ...\n",
    "\n",
    "# Initializing the quantizer.\n",
    "quantizer = faiss.IndexBinaryFlat(d)\n",
    "\n",
    "# Number of clusters.\n",
    "nlist = ...\n",
    "\n",
    "# Initializing index.\n",
    "index = faiss.IndexBinaryIVF(quantizer, d, nlist)\n",
    "index.nprobe = 4 # Number of nearest clusters to be searched per query. \n",
    "\n",
    "# Training the quantizer.\n",
    "index.train(training)\n",
    "\n",
    "# Adding the database vectors.\n",
    "index.add(db)\n",
    "\n",
    "# Number of nearest neighbors to retrieve per query vector.\n",
    "k = ...\n",
    "\n",
    "# Querying the index.\n",
    "D, I = index.search(queries, k)\n",
    "\n",
    "# D[i, j] contains the distance from the i-th query vector to its j-th nearest neighbor.\n",
    "# I[i, j] contains the id of the j-th nearest neighbor of the i-th query vector.\n",
    "```"
   ]
  },
  {
   "cell_type": "markdown",
   "metadata": {},
   "source": [
    "# Shorter versions using index factory\n",
    "The faiss::index_binary_factory() allows for shorter declarations of binary indexes. It is especially useful for IndexBinaryIVF, for which a quantizer needs to be initialized.\n",
    "\n",
    "Instead of the above initialization code:\n",
    "```\n",
    "# Initializing the quantizer.\n",
    "quantizer = faiss.IndexBinaryFlat(d)\n",
    "\n",
    "# Number of clusters.\n",
    "nlist = 32\n",
    "\n",
    "# Initializing index.\n",
    "index = faiss.IndexBinaryIVF(quantizer, d, nlist)\n",
    "index.nprobe = 4 # Number of nearest clusters to be searched per query. \n",
    "```\n",
    "one could write:\n",
    "```\n",
    "# Initializing the quantizer.\n",
    "index = faiss.index_binary_factory(d, \"BIVF32\")\n",
    "index.nprobe = 4 # Number of nearest clusters to be searched per query.\n",
    "```"
   ]
  },
  {
   "cell_type": "markdown",
   "metadata": {},
   "source": [
    "### 汉明距离\n",
    "在信息论中，两个等长字符串之间的汉明距离是两个字符串对应位置的不同字符的个数。也就是，将一个字符串变换成另外一个字符串所需要替换的字符个数。\n",
    "1011101 与 1001001 之间的汉明距离是 2。\n",
    "2143896 与 2233796 之间的汉明距离是 3。\n",
    "\"toned\" 与 \"roses\" 之间的汉明距离是 3。\n",
    "汉明重量是字符串相对于同样长度的零字符串的汉明距离，也就是说，它是字符串中非零的元素个数：对于二进制字符串来说，就是 1 的个数，所以 11101 的汉明重量是 4。"
   ]
  }
 ],
 "metadata": {
  "kernelspec": {
   "display_name": "Python 3",
   "language": "python",
   "name": "python3"
  },
  "language_info": {
   "codemirror_mode": {
    "name": "ipython",
    "version": 3
   },
   "file_extension": ".py",
   "mimetype": "text/x-python",
   "name": "python",
   "nbconvert_exporter": "python",
   "pygments_lexer": "ipython3",
   "version": "3.7.5"
  }
 },
 "nbformat": 4,
 "nbformat_minor": 2
}

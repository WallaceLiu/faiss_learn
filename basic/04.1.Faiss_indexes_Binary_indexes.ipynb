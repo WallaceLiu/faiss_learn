{
 "cells": [
  {
   "cell_type": "markdown",
   "metadata": {},
   "source": [
    "# Binary indexes\n",
    "\n",
    "https://github.com/facebookresearch/faiss/wiki/Binary-indexes"
   ]
  },
  {
   "cell_type": "markdown",
   "metadata": {},
   "source": [
    "# Overview\n",
    "Faiss 支持用`IndexBinaryFlat`和`IndexBinaryIVF`（它们都继承`IndexBinary`）索引 binary vectors (with `Hamming distance`) natively.\n",
    "\n",
    "Those indexes store the vectors as arrays of bytes, so that a vector of size d takes only d / 8 bytes in memory. Note that at the moment, only vectors with sizes multiple of 8 are supported. Of course, you can round up the vector length if needed.\n",
    "\n",
    "The input to the add() and search() methods are also byte arrays (\"uint8_t\" in C++, \"uint8\" in numpy).\n",
    "\n",
    "The Hamming distance computations are optimized using popcount CPU instructions."
   ]
  },
  {
   "cell_type": "markdown",
   "metadata": {},
   "source": [
    "# IndexBinaryFlat\n",
    "The \"flat\" binary index performs an exhaustive search.\n",
    "\n",
    "The exhaustive search is carefully optimized especially for 256-bit vectors that are quite common.\n",
    "\n",
    "Batching is applied on the query and the database side to avoid cache misses.\n",
    "\n",
    "The values of hamming_batch_size and faiss::IndexBinaryFlat#query_batch_size can be customized to adjust the batch sizes but the default values were found to be close to optimal for a large range of settings."
   ]
  },
  {
   "cell_type": "markdown",
   "metadata": {},
   "source": [
    "```\n",
    "import faiss\n",
    "\n",
    "# Dimension of the vectors.\n",
    "d = 256\n",
    "\n",
    "# Vectors to be indexed, each represented by d / 8 bytes, layed out sequentially,\n",
    "# i.e. the i-th vector starts at db[i * (d / 8)].\n",
    "db = ...\n",
    "\n",
    "# Vectors to be queried from the index.\n",
    "queries = ...\n",
    "\n",
    "# Initializing index.\n",
    "index = faiss.IndexBinaryFlat(d)\n",
    "\n",
    "# Adding the database vectors.\n",
    "index.add(db)\n",
    "\n",
    "# Number of nearest neighbors to retrieve per query vector.\n",
    "k = ...;\n",
    "\n",
    "# Querying the index\n",
    "D, I = index.search(queries, k)\n",
    "\n",
    "# D[i, j] contains the distance from the i-th query vector to its j-th nearest neighbor.\n",
    "# I[i, j] contains the id of the j-th nearest neighbor of the i-th query vector.\n",
    "```"
   ]
  },
  {
   "cell_type": "markdown",
   "metadata": {},
   "source": [
    "# IndexBinaryIVF\n",
    "The \"IVF\" (Inverse Vector File) flavor speeds up the search by clustering the vectors. This clustering is done using a second (binary) index for quantization (usually a flat index). This is equivalent to the IndexIVFFlat of the floating-point indexes."
   ]
  },
  {
   "cell_type": "markdown",
   "metadata": {},
   "source": [
    "```\n",
    "import faiss\n",
    "\n",
    "# Dimension of the vectors.\n",
    "d = 256\n",
    "\n",
    "# Vectors to be indexed, each represented by d / 8 bytes, layed out sequentially,\n",
    "# i.e. the i-th vector starts at db[i * (d / 8)].\n",
    "db = ...\n",
    "\n",
    "# Vectors to train the quantizer.\n",
    "training = ...\n",
    "\n",
    "# Vectors to be queried from the index.\n",
    "queries = ...\n",
    "\n",
    "# Initializing the quantizer.\n",
    "quantizer = faiss.IndexBinaryFlat(d)\n",
    "\n",
    "# Number of clusters.\n",
    "nlist = ...\n",
    "\n",
    "# Initializing index.\n",
    "index = faiss.IndexBinaryIVF(quantizer, d, nlist)\n",
    "index.nprobe = 4 # Number of nearest clusters to be searched per query. \n",
    "\n",
    "# Training the quantizer.\n",
    "index.train(training)\n",
    "\n",
    "# Adding the database vectors.\n",
    "index.add(db)\n",
    "\n",
    "# Number of nearest neighbors to retrieve per query vector.\n",
    "k = ...\n",
    "\n",
    "# Querying the index.\n",
    "D, I = index.search(queries, k)\n",
    "\n",
    "# D[i, j] contains the distance from the i-th query vector to its j-th nearest neighbor.\n",
    "# I[i, j] contains the id of the j-th nearest neighbor of the i-th query vector.\n",
    "```"
   ]
  },
  {
   "cell_type": "markdown",
   "metadata": {},
   "source": [
    "# Shorter versions using index factory\n",
    "The faiss::index_binary_factory() allows for shorter declarations of binary indexes. It is especially useful for IndexBinaryIVF, for which a quantizer needs to be initialized.\n",
    "\n",
    "Instead of the above initialization code:\n",
    "```\n",
    "# Initializing the quantizer.\n",
    "quantizer = faiss.IndexBinaryFlat(d)\n",
    "\n",
    "# Number of clusters.\n",
    "nlist = 32\n",
    "\n",
    "# Initializing index.\n",
    "index = faiss.IndexBinaryIVF(quantizer, d, nlist)\n",
    "index.nprobe = 4 # Number of nearest clusters to be searched per query. \n",
    "```\n",
    "one could write:\n",
    "```\n",
    "# Initializing the quantizer.\n",
    "index = faiss.index_binary_factory(d, \"BIVF32\")\n",
    "index.nprobe = 4 # Number of nearest clusters to be searched per query.\n",
    "```"
   ]
  },
  {
   "cell_type": "code",
   "execution_count": null,
   "metadata": {},
   "outputs": [],
   "source": []
  }
 ],
 "metadata": {
  "kernelspec": {
   "display_name": "Python 3",
   "language": "python",
   "name": "python3"
  },
  "language_info": {
   "codemirror_mode": {
    "name": "ipython",
    "version": 3
   },
   "file_extension": ".py",
   "mimetype": "text/x-python",
   "name": "python",
   "nbconvert_exporter": "python",
   "pygments_lexer": "ipython3",
   "version": "3.7.5"
  }
 },
 "nbformat": 4,
 "nbformat_minor": 2
}

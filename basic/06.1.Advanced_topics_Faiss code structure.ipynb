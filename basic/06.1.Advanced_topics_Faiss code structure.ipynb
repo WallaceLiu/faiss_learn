{
 "cells": [
  {
   "cell_type": "markdown",
   "metadata": {},
   "source": [
    "# Faiss code structure\n",
    "https://github.com/facebookresearch/faiss/wiki/Faiss-code-structure"
   ]
  },
  {
   "cell_type": "markdown",
   "metadata": {},
   "source": [
    "A few words on the coding conventions"
   ]
  },
  {
   "cell_type": "markdown",
   "metadata": {},
   "source": [
    "# Compilation\n",
    "A Makefile compiles Faiss and its Python interface. It depends on Makefile variables that set various flags (BLAS library, optimization, etc.), and that are set in makefile.inc. See INSTALL on how to set the proper flags."
   ]
  },
  {
   "cell_type": "markdown",
   "metadata": {},
   "source": [
    "# Dependencies\n",
    "The only hard dependency of Faiss is BLAS/Lapack. It was developed with Intel MKL but any implementation that offers the API with fortran calling conventions should work. Many implementations are transitioning from 32- to 64-bit integers, so the type of integer that should be used must be specified at compile time with the -DFINTEGER=int or -DFINTEGER=long flag."
   ]
  },
  {
   "cell_type": "markdown",
   "metadata": {},
   "source": [
    "# CPU Faiss C++ coding conventions\n",
    "The CPU part of Faiss is intended to be easy to wrap in scripting languages. The GPU part of Faiss was written separately and follows different conventions (see below).\n",
    "\n",
    "## No public/private\n",
    "All objects are C++ structs, there is no notion of public/private fields. All fields can be accessed directly. This means there are not safeguards that can be implemented via getters and setters.\n",
    "\n",
    "## Object ownership\n",
    "Most often, Faiss classes are copy-constructable. There are a few exceptions, where an object A maintains a pointer to another object B. In this case, there is a boolean flag own_fields in A that indicates whether B should be deleted when A is deleted. The flag is always set to false (not owned) by constructors. This will result in a memory leak if the reference to the B is lost in the calling code. You can set it to true if you want object A to destroy object B when it is destroyed. Library function like index_factory or load_index that construct A and B set it to true.\n",
    "\n",
    "Class\tfield\n",
    "IndexIVF\tquantizer\n",
    "IndexPreTransform\tchain\n",
    "IndexIDMap\tindex\n",
    "IndexRefineFlat\tbase_index\n",
    "For example, you can construct an IndexIVFPQ In Python:\n",
    "```\n",
    "def make_index():\n",
    "  coarseQuantizer = faiss.IndexFlatL2(targetDim)\n",
    "  index = faiss.IndexIVFPQ(\n",
    "      coarseQuantizer, targetDim, numCentroids, numQuantizers, 8)\n",
    "  # say the coarse quantizer is deallocated by index destructor\n",
    "  index.own_fields = True \n",
    "  # tell Python not to try to deallocate the pointer when exiting \n",
    "  # the function\n",
    "  coarseQuantizer.this.disown()\n",
    "  index.nprobe = 5        \n",
    "  return index\n",
    "```\n",
    "There is no shared_ptr implemented, mainly because it is hard to make it work with the ref-counts managed by Lua and Python.\n",
    "\n",
    "## Coding conventions\n",
    "Class names are CamlCase, methods and fields are lower_case_with_underscores (like in Python). All functions definitions and calls in C++ have a space before the parenthesis. All classes have a constructor without parameters that initializes parameters to some reproducible default. Indentation is 4 spaces for C++ and Python."
   ]
  },
  {
   "cell_type": "markdown",
   "metadata": {},
   "source": [
    "# GPU Faiss coding conventions\n",
    "GPU Faiss is written using C++11 features. End-user exposed headers (e.g., those objects exported via SWIG) attempt to stick to C++03 without templates.\n",
    "\n",
    "The GPU Faiss index objects inherit from the CPU versions and provide some (but not all) of the same interface. For various reasons, not all of the CPU interface functions could be implemented, but the main ones are implemented. Getters and setters are preferred as there are often state implications on the GPU for changes (and certain errors need to be enforced). As a result, there is some degree of mismatch between GPU and CPU APIs, which we may attempt to clean up in the future.\n",
    "\n",
    ".cu and .cuh files potentially contain CUDA and are meant for compilation (and inclusion) by nvcc. .h and .cpp files are meant for compilation by the host compiler. Linking is best done with nvcc, as it \"knows\" which cuda libraries to link in.\n",
    "\n",
    "## Inclusion in external projects\n",
    "By convention, Faiss .h files are referred to as <faiss/...>. For example, use\n",
    "\n",
    "#include <faiss/IndexIVFPQ.h>\n",
    "#include <faiss/gpu/GpuIndexFlat.h>\n",
    "\n",
    "## C++ code wrapping\n",
    "The C++ code can be called in Lua and Python thanks to SWIG. SWIG parses the Faiss header files and generates classes in Lua/Python for all the C++ classes it finds.\n",
    "\n",
    "The SWIG module is called swigfaiss in Python, this is the low-lever wrapper (it also contains code for the Lua wrapper, for internal use at Facebook). The functions and class methods can be called transparently from Python.\n",
    "\n",
    "The faiss module is an additional level of wrapping above swigfaiss. It that exports all of swigfaiss, chooses between the GPU and CPU-only version of Faiss and adds functions and methods to Faiss classes.\n",
    "\n",
    "## Handling of C++ pointers\n",
    "The only tricky part is when the C++ classes expect pointers to arrays. SWIG does not automatically handle these. Therefore, the Faiss SWIG wrapper faiss.py adds the following:\n",
    "\n",
    "- a function to extract a SWIG pointer from the data in an array: this is swig_ptr(numpy.array). The functions are type-checked and they check if the array is compact, but there is no protection against NULL/nil/None and no verification of the array size, so is may cause the usual C/C++ crashes or memory corruptions.\n",
    "\n",
    "- for the most common functions Index::train, Index::add, Index::search, a specific wrapper was written to accept arrays in the scripting language directly, and verify their sizes. The original function is moved aside (eg. train -> train_c) and replaced with a wrapper function that does the proper type conversion.\n",
    "\n",
    "- to convert a std::vector<> to an array, use vector_to_array, this copies the data to numpy.\n",
    "\n",
    "- to create a numpy array that references a float* x pointer, use rev_swig_ptr(x, 125). The numpy array will be 125 elements long. The data is not copied and size is not checked. To use this with std::vector<float>'s use the .data() method of the vector to get the pointer to its data."
   ]
  },
  {
   "cell_type": "code",
   "execution_count": null,
   "metadata": {},
   "outputs": [],
   "source": []
  }
 ],
 "metadata": {
  "kernelspec": {
   "display_name": "Python 3",
   "language": "python",
   "name": "python3"
  },
  "language_info": {
   "codemirror_mode": {
    "name": "ipython",
    "version": 3
   },
   "file_extension": ".py",
   "mimetype": "text/x-python",
   "name": "python",
   "nbconvert_exporter": "python",
   "pygments_lexer": "ipython3",
   "version": "3.7.5"
  }
 },
 "nbformat": 4,
 "nbformat_minor": 2
}

{
 "cells": [
  {
   "cell_type": "markdown",
   "metadata": {},
   "source": [
    "# Tutorial 快速入门\n",
    "\n",
    "- https://github.com/facebookresearch/faiss/wiki/Getting-started"
   ]
  },
  {
   "cell_type": "markdown",
   "metadata": {},
   "source": [
    "We provide code examples in C++ and Python. The code can be run by copy/pasting it or running it from the tutorial/ subdirectory of the Faiss distribution."
   ]
  },
  {
   "cell_type": "markdown",
   "metadata": {},
   "source": [
    "## Getting some data"
   ]
  },
  {
   "cell_type": "markdown",
   "metadata": {},
   "source": [
    "Faiss可以处理固定维度d的向量集合，typically a few 10s to 100s。向量集合被保存在矩阵中。我们假设行主存储（例如，the j'th component of vector number i is stored in row i, column j of the matrix）。Faiss只能使用32-bit浮点矩阵。\n",
    "\n",
    "我们需要两个矩阵： \n",
    "- xb 为语料, that contains all the vectors that must be indexed, and that we are going to search in. 它的大小为`nb-by-d`\n",
    "- xq 为查询的向量集合, for which we need to find the nearest neighbors. 大小为`nq-by-d`. 如果我们只有一个查询向量，那么`nq=1`.\n",
    "\n",
    "下面例子，我们将学习在d=64维空间中向量，是0-1均匀分布，他们的值在`(0,1)`范围内。为了增加娱乐性，我们在第一个向量上加个小平移。"
   ]
  },
  {
   "cell_type": "code",
   "execution_count": 3,
   "metadata": {},
   "outputs": [],
   "source": [
    "import numpy as np\n",
    "\n",
    "d = 64                           # dimension\n",
    "nb = 100000                      # database size\n",
    "nq = 10000                       # nb of queries\n",
    "np.random.seed(1234)             # make reproducible\n",
    "xb = np.random.random((nb, d)).astype('float32')\n",
    "xb[:, 0] += np.arange(nb) / 1000.\n",
    "xq = np.random.random((nq, d)).astype('float32')\n",
    "xq[:, 0] += np.arange(nq) / 1000.\n",
    "\n",
    "# import matplotlib.pyplot as plt \n",
    "\n",
    "# plt.hist(xb[6])\n",
    "# plt.show()"
   ]
  },
  {
   "cell_type": "markdown",
   "metadata": {},
   "source": [
    "# Building an index and adding the vectors to it"
   ]
  },
  {
   "cell_type": "markdown",
   "metadata": {},
   "source": [
    "Faiss始终围绕着索引对象展开的. 它封装了数据向量集合, 并且可以对他们进行预处理，以提高搜索效率. 有很多类型的索引, 我们使用最简单的一个，执行暴力L2距离搜索（brute-force L2 distance search）：`IndexFlatL2`.\n",
    "\n",
    "所有索引构建时都必须指定向量的维度`d`。而大多数索引还需要一个训练阶段，以便分析向量的分布。对于`IndexFlatL2`来说，可以跳过训练这步（因为是暴力搜索，不用分析向量）.\n",
    "\n",
    "当构建和训练索引后，在索引上执行两个操作：`add`和`search`.\n",
    "\n",
    "向索引添加数据，在`xb`上调用`add`方法. 有两个索引的状态变量：\n",
    "- `is_trained`, 布尔型，表示是否需要训练\n",
    "- `ntotal`, 被索引的向量集合的大小\n",
    "\n",
    "一些索引也可以对每个向量存储整型ID(`IndexFlatL2`不用). 如果不提供ID，使用向量的序号作为id，例如，第一个向量为0，第二个为1……以此类推"
   ]
  },
  {
   "cell_type": "code",
   "execution_count": 6,
   "metadata": {},
   "outputs": [
    {
     "name": "stdout",
     "output_type": "stream",
     "text": [
      "True\n",
      "True\n",
      "100000\n"
     ]
    }
   ],
   "source": [
    "import faiss                   # make faiss available\n",
    "index = faiss.IndexFlatL2(d)   # build the index\n",
    "print(index.is_trained)\n",
    "index.add(xb)                  # add vectors to the index\n",
    "print(index.is_trained)\n",
    "print(index.ntotal)"
   ]
  },
  {
   "cell_type": "markdown",
   "metadata": {},
   "source": [
    "# Searching"
   ]
  },
  {
   "cell_type": "markdown",
   "metadata": {},
   "source": [
    "在索引上可以执行的最基本操作是 `k-nearest-neighbor search(knn)`, 例如，对每个向量，在数据库中查找它的 `k近邻`.\n",
    "\n",
    "结果保存在大小为 `nq-by-k` 的矩阵中, 其中，第`i`行是其向量`i`的近邻id, 按距离升序排序. 除了`k近邻`矩阵外, 还会返回一个`平方距离(squared distances)`的矩阵，其大小为`nq-by-k`的浮点矩阵。\n",
    "\n",
    "> 常用距离计算方法：https://zhuanlan.zhihu.com/p/101277851\n",
    ">"
   ]
  },
  {
   "cell_type": "markdown",
   "metadata": {},
   "source": [
    "- 先来一个简单测试，用数据库中的小部分向量进行检索，来确保其最近邻确实是向量本身\n",
    "\n",
    "先用训练数据进行检索，理论上，会返回自己。"
   ]
  },
  {
   "cell_type": "code",
   "execution_count": 7,
   "metadata": {},
   "outputs": [
    {
     "name": "stdout",
     "output_type": "stream",
     "text": [
      "(100000, 64)\n",
      "I [[  0 393 363  78]\n",
      " [  1 555 277 364]\n",
      " [  2 304 101  13]\n",
      " [  3 173  18 182]\n",
      " [  4 288 370 531]]\n",
      "D [[0.        7.1751733 7.207629  7.2511625]\n",
      " [0.        6.3235645 6.684581  6.7999454]\n",
      " [0.        5.7964087 6.391736  7.2815123]\n",
      " [0.        7.2779055 7.5279865 7.6628466]\n",
      " [0.        6.7638035 7.2951202 7.3688145]]\n"
     ]
    }
   ],
   "source": [
    "k = 4                          # we want to see 4 nearest neighbors\n",
    "D, I = index.search(xb[:5], k) # sanity check\n",
    "print(xb.shape)\n",
    "print('I', I)\n",
    "print('D', D)"
   ]
  },
  {
   "cell_type": "markdown",
   "metadata": {},
   "source": [
    "- 再用查询向量搜索"
   ]
  },
  {
   "cell_type": "code",
   "execution_count": 12,
   "metadata": {},
   "outputs": [
    {
     "name": "stdout",
     "output_type": "stream",
     "text": [
      "I[:5] [[ 381  207  210  477]\n",
      " [ 526  911  142   72]\n",
      " [ 838  527 1290  425]\n",
      " [ 196  184  164  359]\n",
      " [ 526  377  120  425]]\n",
      "D[:5] [[6.8154984 6.8894653 7.3956795 7.4290257]\n",
      " [6.6041107 6.679695  6.7209625 6.828682 ]\n",
      " [6.4703865 6.8578606 7.0043793 7.036564 ]\n",
      " [5.573681  6.407543  7.1395226 7.3555984]\n",
      " [5.409401  6.232216  6.4173393 6.5743675]]\n",
      "-----\n",
      "I[-5:] [[ 9900 10500  9309  9831]\n",
      " [11055 10895 10812 11321]\n",
      " [11353 11103 10164  9787]\n",
      " [10571 10664 10632  9638]\n",
      " [ 9628  9554 10036  9582]]\n",
      "D[-5:] [[6.5315704 6.97876   7.0039215 7.013794 ]\n",
      " [4.335266  5.2369385 5.3194275 5.7032776]\n",
      " [6.072693  6.5767517 6.6139526 6.7323   ]\n",
      " [6.637512  6.6487427 6.8578796 7.0096436]\n",
      " [6.2183685 6.4525146 6.548767  6.581299 ]]\n"
     ]
    }
   ],
   "source": [
    "D, I = index.search(xq, k)     # actual search\n",
    "print('I[:5]', I[:5])          # neighbors of the 5 first queries\n",
    "print('D[:5]', D[:5])\n",
    "print('-----')\n",
    "print('I[-5:]', I[-5:])        # neighbors of the 5 last queries\n",
    "print('D[-5:]', D[-5:])"
   ]
  },
  {
   "cell_type": "markdown",
   "metadata": {},
   "source": [
    "# Results"
   ]
  },
  {
   "cell_type": "markdown",
   "metadata": {},
   "source": [
    "- 进行一下结果的合理性检查，如果是用训练数据搜索，得到如下结果\n",
    "```text\n",
    "[[  0 393 363  78]\n",
    " [  1 555 277 364]\n",
    " [  2 304 101  13]\n",
    " [  3 173  18 182]\n",
    " [  4 288 370 531]]\n",
    "```\n",
    "```text\n",
    "[[ 0.          7.17517328  7.2076292   7.25116253]\n",
    " [ 0.          6.32356453  6.6845808   6.79994535]\n",
    " [ 0.          5.79640865  6.39173603  7.28151226]\n",
    " [ 0.          7.27790546  7.52798653  7.66284657]\n",
    " [ 0.          6.76380348  7.29512024  7.36881447]]\n",
    "```\n",
    "可以看到：\n",
    "    1. 上面是knn矩阵，结果的确是它自己\n",
    "    2. 下面距离矩阵，相应的距离是0，按升序排序\n",
    "\n",
    "- 如果用查询向量搜索，会得到如下结果\n",
    "```text\n",
    "[[ 381  207  210  477]\n",
    " [ 526  911  142   72]\n",
    " [ 838  527 1290  425]\n",
    " [ 196  184  164  359]\n",
    " [ 526  377  120  425]]\n",
    "```\n",
    "```text\n",
    "[[ 9900 10500  9309  9831]\n",
    " [11055 10895 10812 11321]\n",
    " [11353 11103 10164  9787]\n",
    " [10571 10664 10632  9638]\n",
    " [ 9628  9554 10036  9582]]\n",
    "```\n",
    "Because of the value added to the first component of the vectors, the dataset is smeared along the first axis in d-dim space. So the neighbors of the first few vectors are around the beginning of the dataset, and the ones of the vectors around ~10000 are also around index 10000 in the dataset."
   ]
  },
  {
   "cell_type": "code",
   "execution_count": null,
   "metadata": {},
   "outputs": [],
   "source": []
  }
 ],
 "metadata": {
  "kernelspec": {
   "display_name": "Python 3",
   "language": "python",
   "name": "python3"
  },
  "language_info": {
   "codemirror_mode": {
    "name": "ipython",
    "version": 3
   },
   "file_extension": ".py",
   "mimetype": "text/x-python",
   "name": "python",
   "nbconvert_exporter": "python",
   "pygments_lexer": "ipython3",
   "version": "3.7.5"
  },
  "pycharm": {
   "stem_cell": {
    "cell_type": "raw",
    "metadata": {
     "collapsed": false
    },
    "source": []
   }
  }
 },
 "nbformat": 4,
 "nbformat_minor": 2
}

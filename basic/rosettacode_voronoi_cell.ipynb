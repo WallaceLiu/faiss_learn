{
 "cells": [
  {
   "cell_type": "markdown",
   "metadata": {},
   "source": [
    "https://rosettacode.org/wiki/Voronoi_diagram"
   ]
  },
  {
   "cell_type": "markdown",
   "metadata": {},
   "source": [
    "在平面上，绘制沃罗诺伊图的过程，只要将胞点连起来构成许多三角形，利用中垂线找外心，再将所有外心相连即可。"
   ]
  },
  {
   "cell_type": "code",
   "execution_count": 6,
   "metadata": {},
   "outputs": [],
   "source": [
    "from PIL import Image\n",
    "import random\n",
    "import math\n",
    " \n",
    "def generate_voronoi_diagram(width, height, num_cells):\n",
    "    image = Image.new(\"RGB\", (width, height))\n",
    "    putpixel = image.putpixel\n",
    "    imgx, imgy = image.size\n",
    "    nx = []\n",
    "    ny = []\n",
    "    \n",
    "    nr = []\n",
    "    ng = []\n",
    "    nb = []\n",
    "    for i in range(num_cells):\n",
    "        nx.append(random.randrange(imgx))\n",
    "        ny.append(random.randrange(imgy))\n",
    "        nr.append(random.randrange(256))\n",
    "        ng.append(random.randrange(256))\n",
    "        nb.append(random.randrange(256))\n",
    "        \n",
    "    for y in range(imgy):\n",
    "        for x in range(imgx):\n",
    "            dmin = math.hypot(imgx-1, imgy-1)\n",
    "            j = -1\n",
    "            for i in range(num_cells):\n",
    "                d = math.hypot(nx[i]-x, ny[i]-y)\n",
    "                if d < dmin:\n",
    "                    dmin = d\n",
    "                    j = i\n",
    "            putpixel((x, y), (nr[j], ng[j], nb[j]))\n",
    "    image.save(\"VoronoiDiagram.png\", \"PNG\")\n",
    "    image.show()\n",
    "\n",
    "generate_voronoi_diagram(500, 500, 25)"
   ]
  },
  {
   "cell_type": "markdown",
   "metadata": {},
   "source": [
    "# scipy.spatial.Voronoi\n",
    "https://docs.scipy.org/doc/scipy-0.18.1/reference/generated/scipy.spatial.Voronoi.html"
   ]
  },
  {
   "cell_type": "code",
   "execution_count": 8,
   "metadata": {},
   "outputs": [],
   "source": [
    "import numpy as np\n",
    "from scipy.spatial import Voronoi\n",
    "\n",
    "seed = np.array([[ 17.746   ,  -0.37283 ,  -0.75523 ],\n",
    "       [  6.1704  ,   1.3404  ,   7.0341  ],\n",
    "       [ -7.7211  ,   5.4282  ,   4.5016  ],\n",
    "       [  5.8014  ,   2.1252  ,  -6.2491  ],\n",
    "       [-16.047   ,  -2.8472  ,  -0.024795],\n",
    "       [ -2.2967  ,  -6.7334  ,   0.60707 ]])\n",
    "vor = Voronoi(seed)"
   ]
  },
  {
   "cell_type": "code",
   "execution_count": 9,
   "metadata": {},
   "outputs": [
    {
     "data": {
      "text/plain": [
       "array([[ -6.93864391,   1.79801934,  -7.78610533],\n",
       "       [-15.9902125 , -20.80310202,  50.1840397 ],\n",
       "       [ 29.501584  , 106.36899584,   5.92137852],\n",
       "       [  8.68156407,  -6.58985621,  -0.17410448],\n",
       "       [ -0.20266123,   2.12100225,   0.58735065]])"
      ]
     },
     "execution_count": 9,
     "metadata": {},
     "output_type": "execute_result"
    }
   ],
   "source": [
    "vor.vertices"
   ]
  },
  {
   "cell_type": "code",
   "execution_count": 10,
   "metadata": {},
   "outputs": [
    {
     "data": {
      "text/plain": [
       "[[],\n",
       " [-1, 0, 2, 3, 4],\n",
       " [-1, 2, 3],\n",
       " [-1, 0, 1],\n",
       " [-1, 0, 1, 2, 4],\n",
       " [-1, 1, 2, 3, 4],\n",
       " [-1, 0, 1, 3, 4]]"
      ]
     },
     "execution_count": 10,
     "metadata": {},
     "output_type": "execute_result"
    }
   ],
   "source": [
    "vor.regions"
   ]
  },
  {
   "cell_type": "code",
   "execution_count": 13,
   "metadata": {},
   "outputs": [],
   "source": [
    "import numpy as np\n",
    "from scipy.spatial import Voronoi, voronoi_plot_2d\n",
    "\n",
    "points = np.array([[0, 0], [0, 1], [0, 2], [1, 0], [1, 1], [1, 2],\n",
    "                    [2, 0], [2, 1], [2, 2]])\n",
    "vor = Voronoi(points)"
   ]
  },
  {
   "cell_type": "markdown",
   "metadata": {},
   "source": [
    "The Voronoi vertices"
   ]
  },
  {
   "cell_type": "code",
   "execution_count": 19,
   "metadata": {},
   "outputs": [
    {
     "data": {
      "text/plain": [
       "array([[0.5, 0.5],\n",
       "       [0.5, 1.5],\n",
       "       [1.5, 0.5],\n",
       "       [1.5, 1.5]])"
      ]
     },
     "execution_count": 19,
     "metadata": {},
     "output_type": "execute_result"
    }
   ],
   "source": [
    "vor.vertices"
   ]
  },
  {
   "cell_type": "markdown",
   "metadata": {},
   "source": [
    "There is a single finite Voronoi region, and four finite Voronoi ridges:"
   ]
  },
  {
   "cell_type": "code",
   "execution_count": 20,
   "metadata": {},
   "outputs": [
    {
     "data": {
      "text/plain": [
       "[[],\n",
       " [-1, 0],\n",
       " [-1, 1],\n",
       " [1, -1, 0],\n",
       " [3, -1, 2],\n",
       " [-1, 3],\n",
       " [-1, 2],\n",
       " [0, 1, 3, 2],\n",
       " [2, -1, 0],\n",
       " [3, -1, 1]]"
      ]
     },
     "execution_count": 20,
     "metadata": {},
     "output_type": "execute_result"
    }
   ],
   "source": [
    "vor.regions"
   ]
  },
  {
   "cell_type": "code",
   "execution_count": 18,
   "metadata": {},
   "outputs": [
    {
     "data": {
      "text/plain": [
       "[[-1, 0],\n",
       " [-1, 0],\n",
       " [-1, 1],\n",
       " [-1, 1],\n",
       " [0, 1],\n",
       " [-1, 3],\n",
       " [-1, 2],\n",
       " [2, 3],\n",
       " [-1, 3],\n",
       " [-1, 2],\n",
       " [1, 3],\n",
       " [0, 2]]"
      ]
     },
     "execution_count": 18,
     "metadata": {},
     "output_type": "execute_result"
    }
   ],
   "source": [
    "vor.ridge_vertices"
   ]
  },
  {
   "cell_type": "markdown",
   "metadata": {},
   "source": [
    "The ridges are perpendicular between lines drawn between the following input points:"
   ]
  },
  {
   "cell_type": "code",
   "execution_count": 21,
   "metadata": {},
   "outputs": [
    {
     "data": {
      "text/plain": [
       "array([[0, 3],\n",
       "       [0, 1],\n",
       "       [2, 5],\n",
       "       [2, 1],\n",
       "       [1, 4],\n",
       "       [7, 8],\n",
       "       [7, 6],\n",
       "       [7, 4],\n",
       "       [8, 5],\n",
       "       [6, 3],\n",
       "       [4, 5],\n",
       "       [4, 3]], dtype=int32)"
      ]
     },
     "execution_count": 21,
     "metadata": {},
     "output_type": "execute_result"
    }
   ],
   "source": [
    "vor.ridge_points"
   ]
  },
  {
   "cell_type": "code",
   "execution_count": 16,
   "metadata": {},
   "outputs": [
    {
     "data": {
      "image/png": "[encoded data removed]",
      "text/plain": [
       "<Figure size 432x288 with 1 Axes>"
      ]
     },
     "metadata": {
      "needs_background": "light"
     },
     "output_type": "display_data"
    }
   ],
   "source": [
    "import matplotlib.pyplot as plt\n",
    "voronoi_plot_2d(vor)\n",
    "plt.show()"
   ]
  },
  {
   "cell_type": "code",
   "execution_count": null,
   "metadata": {},
   "outputs": [],
   "source": []
  }
 ],
 "metadata": {
  "kernelspec": {
   "display_name": "Python 3",
   "language": "python",
   "name": "python3"
  },
  "language_info": {
   "codemirror_mode": {
    "name": "ipython",
    "version": 3
   },
   "file_extension": ".py",
   "mimetype": "text/x-python",
   "name": "python",
   "nbconvert_exporter": "python",
   "pygments_lexer": "ipython3",
   "version": "3.7.5"
  }
 },
 "nbformat": 4,
 "nbformat_minor": 4
}

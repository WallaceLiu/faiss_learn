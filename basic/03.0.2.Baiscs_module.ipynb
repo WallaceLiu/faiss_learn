{
 "cells": [
  {
   "cell_type": "code",
   "execution_count": 11,
   "metadata": {},
   "outputs": [],
   "source": [
    "import numpy as np\n",
    "import faiss\n"
   ]
  },
  {
   "cell_type": "markdown",
   "metadata": {},
   "source": [
    "# 聚类"
   ]
  },
  {
   "cell_type": "code",
   "execution_count": 13,
   "metadata": {},
   "outputs": [
    {
     "name": "stdout",
     "output_type": "stream",
     "text": [
      "2323.89\n"
     ]
    }
   ],
   "source": [
    "# ncentroids = 1024\n",
    "# niter = 20\n",
    "# verbose = True\n",
    "# d = x.shape[1]\n",
    "# kmeans = faiss.Kmeans(d, ncentroids, niter, verbose)\n",
    "# kmeans.train(x)\n",
    "# D, I = kmeans.index.search(x, 1)\n",
    "# print(I[:5])\n",
    "d = 32\n",
    "nb = 1000\n",
    "k = 10\n",
    "rs = np.random.RandomState(123)\n",
    "xb = rs.rand(nb, d).astype('float32')\n",
    "\n",
    "km1 = faiss.Kmeans(d, k)\n",
    "obj1 = km1.train(xb)\n",
    "\n",
    "# km2 = faiss.Kmeans(d, k, gpu=false)\n",
    "# obj2 = km2.train(xb)\n",
    "\n",
    "print(obj1)"
   ]
  },
  {
   "cell_type": "markdown",
   "metadata": {},
   "source": [
    "# PCA降维"
   ]
  },
  {
   "cell_type": "markdown",
   "metadata": {},
   "source": [
    "从40维降低到10维度："
   ]
  },
  {
   "cell_type": "code",
   "execution_count": 7,
   "metadata": {},
   "outputs": [
    {
     "name": "stdout",
     "output_type": "stream",
     "text": [
      "[116.73833  114.151405 109.93648  107.77348  105.31166  104.46093\n",
      " 103.42804  100.8946   100.21523   99.19941 ]\n"
     ]
    }
   ],
   "source": [
    "# random training data \n",
    "mt = np.random.rand(1000, 40).astype('float32')\n",
    "mat = faiss.PCAMatrix (40, 10)\n",
    "mat.train(mt)\n",
    "assert mat.is_trained\n",
    "tr = mat.apply_py(mt)\n",
    "# print this to show that the magnitude of tr's columns is decreasing\n",
    "print((tr ** 2).sum(0))"
   ]
  },
  {
   "cell_type": "markdown",
   "metadata": {},
   "source": [
    "# ProductQuantizer(PQ)"
   ]
  },
  {
   "cell_type": "code",
   "execution_count": 8,
   "metadata": {},
   "outputs": [],
   "source": [
    "d = 32  # data dimension\n",
    "cs = 4  # code size (bytes)\n",
    "\n",
    "# train set \n",
    "nt = 10000\n",
    "xt = np.random.rand(nt, d).astype('float32')\n",
    "\n",
    "# dataset to encode (could be same as train)\n",
    "n = 20000\n",
    "x = np.random.rand(n, d).astype('float32')\n",
    "\n",
    "pq = faiss.ProductQuantizer(d, cs, 8)\n",
    "pq.train(xt)\n",
    "\n",
    "# encode \n",
    "codes = pq.compute_codes(x)\n",
    "\n",
    "# decode\n",
    "x2 = pq.decode(codes)\n",
    "\n",
    "# compute reconstruction error\n",
    "avg_relative_error = ((x - x2)**2).sum() / (x ** 2).sum()"
   ]
  },
  {
   "cell_type": "markdown",
   "metadata": {},
   "source": [
    "# 标量量化器（每一维度量化）"
   ]
  },
  {
   "cell_type": "code",
   "execution_count": 9,
   "metadata": {},
   "outputs": [],
   "source": [
    "d = 32  # data dimension\n",
    "\n",
    "# train set \n",
    "nt = 10000\n",
    "xt = np.random.rand(nt, d).astype('float32')\n",
    "\n",
    "# dataset to encode (could be same as train)\n",
    "n = 20000\n",
    "x = np.random.rand(n, d).astype('float32')\n",
    "\n",
    "# QT_8bit allocates 8 bits per dimension (QT_4bit also works)\n",
    "sq = faiss.ScalarQuantizer(d, faiss.ScalarQuantizer.QT_8bit)\n",
    "sq.train(xt)\n",
    "\n",
    "# encode \n",
    "codes = sq.compute_codes(x)\n",
    "\n",
    "# decode\n",
    "x2 = sq.decode(codes)\n",
    "\n",
    "# compute reconstruction error\n",
    "avg_relative_error = ((x - x2)**2).sum() / (x ** 2).sum()"
   ]
  },
  {
   "cell_type": "code",
   "execution_count": null,
   "metadata": {},
   "outputs": [],
   "source": []
  }
 ],
 "metadata": {
  "kernelspec": {
   "display_name": "Python 3",
   "language": "python",
   "name": "python3"
  },
  "language_info": {
   "codemirror_mode": {
    "name": "ipython",
    "version": 3
   },
   "file_extension": ".py",
   "mimetype": "text/x-python",
   "name": "python",
   "nbconvert_exporter": "python",
   "pygments_lexer": "ipython3",
   "version": "3.7.5"
  }
 },
 "nbformat": 4,
 "nbformat_minor": 2
}

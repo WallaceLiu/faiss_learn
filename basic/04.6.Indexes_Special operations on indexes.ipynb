{
 "cells": [
  {
   "cell_type": "markdown",
   "metadata": {},
   "source": [
    "# Special operations on indexes\n",
    "https://github.com/facebookresearch/faiss/wiki/Special-operations-on-indexes"
   ]
  },
  {
   "cell_type": "markdown",
   "metadata": {},
   "source": [
    "下面一些额外的操作，不是所有类型的index都支持的."
   ]
  },
  {
   "cell_type": "markdown",
   "metadata": {},
   "source": [
    "# Reconstructing vectors from an index"
   ]
  },
  {
   "cell_type": "markdown",
   "metadata": {},
   "source": [
    "reconstruct 和 reconstruct_n 方法通过 `ids` 从 `index` 中重建一个或多个 `vector(s)`.\n",
    "\n",
    "示例: [test_index_composite.py](https://github.com/facebookresearch/faiss/blob/master/tests/test_index_composite.py#L35)\n",
    "\n",
    "支持 IndexFlat, IndexIVFFlat (call make_direct_map first), IndexIVFPQ (same), IndexPreTransform (provided the underlying transform supports it)"
   ]
  },
  {
   "cell_type": "code",
   "execution_count": 6,
   "metadata": {},
   "outputs": [],
   "source": [
    "import numpy as np\n",
    "import faiss\n",
    "\n",
    "index_file_name='test.index'\n",
    "\n",
    "d = 64                           \n",
    "nb = 100000                       \n",
    "np.random.seed(1234)                              # 对生成的数据，每次都一样，可预见，若无此句，每次都不一样\n",
    "xb = np.random.random((nb, d)).astype('float32')  # 向量集合，矩阵nb*d\n",
    "xb[:, 0] += np.arange(nb) / 1000                  # 修正向量集合第一列，每项加 0...nb/1000 小数\n",
    "ids = np.arange(100000, 100000+nb).astype('int')\n",
    "\n",
    "index = faiss.index_factory(d, \"IVF100,Flat\", faiss.METRIC_INNER_PRODUCT)\n",
    "index.nprobe = 20\n",
    "index.train(xb)\n",
    "# init make_direct_map，and reconstruct\n",
    "index.make_direct_map()\n",
    "index_id = faiss.IndexIDMap2(index)\n",
    "index_id.add_with_ids(xb, ids)\n",
    "# save\n",
    "faiss.write_index(index_id, index_file_name)"
   ]
  },
  {
   "cell_type": "code",
   "execution_count": 9,
   "metadata": {},
   "outputs": [
    {
     "name": "stdout",
     "output_type": "stream",
     "text": [
      "[0.19151945 0.62210876 0.43772775 0.7853586  0.77997583 0.2725926\n",
      " 0.27646425 0.8018722  0.95813936 0.87593263 0.35781726 0.5009951\n",
      " 0.6834629  0.71270204 0.37025076 0.5611962  0.50308317 0.01376845\n",
      " 0.7728266  0.8826412  0.364886   0.6153962  0.07538124 0.368824\n",
      " 0.9331401  0.65137815 0.39720258 0.78873014 0.31683612 0.56809866\n",
      " 0.8691274  0.4361734  0.8021476  0.14376682 0.70426095 0.7045813\n",
      " 0.21879211 0.92486763 0.44214076 0.90931594 0.05980922 0.18428709\n",
      " 0.04735528 0.6748809  0.59462476 0.5333102  0.04332406 0.5614331\n",
      " 0.32966843 0.5029668  0.11189432 0.6071937  0.5659447  0.00676406\n",
      " 0.6174417  0.9121229  0.7905241  0.99208146 0.95880175 0.7919641\n",
      " 0.28525096 0.62491673 0.4780938  0.19567518]\n",
      "[[119039 118150 114750 120525 116302 111500 118313 118297 115098 116258]]\n"
     ]
    }
   ],
   "source": [
    "# load\n",
    "new_index = faiss.read_index(index_file_name)\n",
    "uid=100000\n",
    "k=10\n",
    "try:\n",
    "    re_vector=new_index.reconstruct(uid)\n",
    "    print(re_vector)\n",
    "    D, I = new_index.search(re_vector.reshape(1,-1), k) \n",
    "    print(I)\n",
    "except RuntimeError:\n",
    "    print('{} not exist.'.format(uid))"
   ]
  },
  {
   "cell_type": "markdown",
   "metadata": {},
   "source": [
    "# Removing elements from an index"
   ]
  },
  {
   "cell_type": "markdown",
   "metadata": {},
   "source": [
    "`remove_ids` 方法从index删除子向量. It takes an IDSelector object that is called for every element in the index to decide whether it should be removed. IDSelectorBatch will do this for a list of indices. The Python interface constructs this efficiently.\n",
    "\n",
    "NB that since it does a pass over the whole database, this is efficient only when a significant number of vectors needs to be removed.\n",
    "\n",
    "示例: [test_index_composite.py](https://github.com/facebookresearch/faiss/blob/master/tests/test_index_composite.py#L25)\n",
    "\n",
    "只支持 `IndexFlat`, `IndexIVFFlat`, `IndexIVFPQ`, `IDMap`.\n",
    "\n",
    "Note that there is a semantic difference when removing ids from sequential indexes vs. when removing them from an IndexIVF:\n",
    "\n",
    "- for sequential indexes (IndexFlat, IndexPQ, IndexLSH), the removal operation shifts the ids of vectors above the removed vector id.\n",
    "\n",
    "- the IndexIVF and IndexIDMap2 store the ids of vectors explicitly, so the ids of other vectors are not changed. There are two special cases for IndexIVF:\n",
    "    - DirectMap type Array does not support removal because it means that all the indices would be shifted, which does not seem very useful.\n",
    "    - with a direct map type Hashtable and a selector IDSelectorArray elements can be removed without scanning the whole index."
   ]
  },
  {
   "cell_type": "code",
   "execution_count": 16,
   "metadata": {},
   "outputs": [
    {
     "name": "stdout",
     "output_type": "stream",
     "text": [
      "(100000, 64)\n",
      "100000\n",
      "99995\n"
     ]
    }
   ],
   "source": [
    "import numpy as np\n",
    "\n",
    "d = 64                           # dimension\n",
    "nb = 100000                      # database size\n",
    "np.random.seed(1234)             # make reproducible\n",
    "xb = np.random.random((nb, d)).astype('float32')\n",
    "xb[:, 0] += np.arange(nb) / 1000.\n",
    "print(xb.shape)\n",
    "\n",
    "import faiss\n",
    "\n",
    "index = faiss.IndexFlatL2(d)\n",
    "index.add(xb)\n",
    "print(index.ntotal)\n",
    "index.remove_ids(np.arange(5)) # 需要移除的向量的id\n",
    "print(index.ntotal)  #移除了5个向量"
   ]
  },
  {
   "cell_type": "markdown",
   "metadata": {},
   "source": [
    "# Range search"
   ]
  },
  {
   "cell_type": "markdown",
   "metadata": {},
   "source": [
    "`range_search` 返回查询点周围半径内的所有向量 (as opposed to the k nearest ones). Since the result lists for each query are of different sizes, it must be handled specially:\n",
    "\n",
    "- in C++ it returns the results in a pre-allocated [RangeSearchResult](https://github.com/facebookresearch/faiss/blob/master/impl/AuxIndexStructures.h#L35) structure\n",
    "- in Python, the results are returned as a triplet of 1D arrays lims, D, I, where result for query i is in I[lims[i]:lims[i+1]] (indices of neighbors), D[lims[i]:lims[i+1]] (distances).\n",
    "\n",
    "只支持(CPU only): `IndexFlat`, `IndexIVFFlat`, `IndexScalarQuantizer`, `IndexIVFScalarQuantizer`."
   ]
  },
  {
   "cell_type": "code",
   "execution_count": 15,
   "metadata": {},
   "outputs": [
    {
     "name": "stdout",
     "output_type": "stream",
     "text": [
      "(100000, 64)\n",
      "(array([0, 1]), array([0.], dtype=float32), array([49]))\n",
      "(array([0, 1]), array([0.], dtype=float32), array([9]))\n"
     ]
    }
   ],
   "source": [
    "import numpy as np\n",
    "\n",
    "d = 64                           # dimension\n",
    "nb = 100000                      # database size\n",
    "np.random.seed(1234)             # make reproducible\n",
    "xb = np.random.random((nb, d)).astype('float32')\n",
    "xb[:, 0] += np.arange(nb) / 1000.\n",
    "print(xb.shape)\n",
    "\n",
    "import faiss\n",
    "\n",
    "index = faiss.IndexFlatL2(d)\n",
    "index.add(xb)\n",
    "dist = float(np.linalg.norm(xb[3] - xb[0])) * 0.99  # 定义一个半径/阈值\n",
    "res_index = index.range_search(xb[[49], :], dist)  #用第50个向量查询\n",
    "print(res_index) #返回结果是一个三元组，分别是limit(返回的结果的数量), distance, index\n",
    "res_index = index.range_search(xb[[9], :], dist)  #用第10个向量查询\n",
    "print(res_index) #返回结果是一个三元组，分别是limit(返回的结果的数量), distance, index"
   ]
  },
  {
   "cell_type": "markdown",
   "metadata": {},
   "source": [
    "# Splitting and merging indexes"
   ]
  },
  {
   "cell_type": "markdown",
   "metadata": {},
   "source": [
    "方法:\n",
    "\n",
    "- `merge_from` copies another index to this and deallocates it on-the-fly. You can use `ivflib::merge_into` for IndexIVFs wrapped in a pre-transform.\n",
    "\n",
    "- `copy_subset_to` copies a subset of this codes to another index. Example usage: [to build indexes on a GPU and move them to CPU afterwards](https://github.com/facebookresearch/faiss/blob/master/benchs/bench_gpu_1bn.py#L541)\n",
    "\n",
    "这些方法只支持 `IndexIVF` 子类， 因为他们主要针对大规模数据."
   ]
  },
  {
   "cell_type": "code",
   "execution_count": 12,
   "metadata": {},
   "outputs": [
    {
     "name": "stdout",
     "output_type": "stream",
     "text": [
      "(100000, 64)\n"
     ]
    }
   ],
   "source": [
    "import numpy as np\n",
    "\n",
    "d = 64                           # dimension\n",
    "nb = 100000                      # database size\n",
    "np.random.seed(1234)             # make reproducible\n",
    "xb = np.random.random((nb, d)).astype('float32')\n",
    "xb[:, 0] += np.arange(nb) / 1000.\n",
    "print(xb.shape)"
   ]
  },
  {
   "cell_type": "code",
   "execution_count": 13,
   "metadata": {},
   "outputs": [
    {
     "name": "stdout",
     "output_type": "stream",
     "text": [
      "100000\n"
     ]
    }
   ],
   "source": [
    "import faiss\n",
    "\n",
    "nlist = 10\n",
    "quantizer = faiss.IndexFlatL2(d)\n",
    "index1 = faiss.IndexIVFFlat(quantizer, d, nlist)\n",
    "index1.train(xb[:50000])\n",
    "index1.add(xb[:50000])\n",
    "index2 = faiss.IndexIVFFlat(quantizer, d, nlist)\n",
    "index2.add(xb[50000:])\n",
    "index1.merge_from(index2, 50000)\n",
    "\n",
    "print(index1.ntotal)\n",
    "\n",
    "D, I = index1.search(xb[:5], 10)"
   ]
  },
  {
   "cell_type": "code",
   "execution_count": null,
   "metadata": {},
   "outputs": [],
   "source": []
  }
 ],
 "metadata": {
  "kernelspec": {
   "display_name": "Python 3",
   "language": "python",
   "name": "python3"
  },
  "language_info": {
   "codemirror_mode": {
    "name": "ipython",
    "version": 3
   },
   "file_extension": ".py",
   "mimetype": "text/x-python",
   "name": "python",
   "nbconvert_exporter": "python",
   "pygments_lexer": "ipython3",
   "version": "3.7.5"
  },
  "pycharm": {
   "stem_cell": {
    "cell_type": "raw",
    "metadata": {
     "collapsed": false
    },
    "source": []
   }
  }
 },
 "nbformat": 4,
 "nbformat_minor": 2
}

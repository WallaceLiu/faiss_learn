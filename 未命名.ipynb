{
 "cells": [
  {
   "cell_type": "code",
   "execution_count": 29,
   "metadata": {},
   "outputs": [],
   "source": [
    "import pandas as pd"
   ]
  },
  {
   "cell_type": "code",
   "execution_count": 42,
   "metadata": {},
   "outputs": [
    {
     "data": {
      "text/html": [
       "<div>\n",
       "<style scoped>\n",
       "    .dataframe tbody tr th:only-of-type {\n",
       "        vertical-align: middle;\n",
       "    }\n",
       "\n",
       "    .dataframe tbody tr th {\n",
       "        vertical-align: top;\n",
       "    }\n",
       "\n",
       "    .dataframe thead th {\n",
       "        text-align: right;\n",
       "    }\n",
       "</style>\n",
       "<table border=\"1\" class=\"dataframe\">\n",
       "  <thead>\n",
       "    <tr style=\"text-align: right;\">\n",
       "      <th></th>\n",
       "      <th>pin</th>\n",
       "      <th>vec</th>\n",
       "    </tr>\n",
       "  </thead>\n",
       "  <tbody>\n",
       "    <tr>\n",
       "      <th>0</th>\n",
       "      <td>a</td>\n",
       "      <td>[('item1','0.1'),('item2','0.1')]</td>\n",
       "    </tr>\n",
       "    <tr>\n",
       "      <th>1</th>\n",
       "      <td>b</td>\n",
       "      <td>[('item3','0.1'),(('item4','0.1'))]</td>\n",
       "    </tr>\n",
       "    <tr>\n",
       "      <th>2</th>\n",
       "      <td>c</td>\n",
       "      <td>[('item5','0.1'),(('item6','0.1'))]</td>\n",
       "    </tr>\n",
       "  </tbody>\n",
       "</table>\n",
       "</div>"
      ],
      "text/plain": [
       "  pin                                  vec\n",
       "0   a    [('item1','0.1'),('item2','0.1')]\n",
       "1   b  [('item3','0.1'),(('item4','0.1'))]\n",
       "2   c  [('item5','0.1'),(('item6','0.1'))]"
      ]
     },
     "execution_count": 42,
     "metadata": {},
     "output_type": "execute_result"
    }
   ],
   "source": [
    "data=[['a',\"[('item1','0.1'),('item2','0.1')]\"],\n",
    "      ['b',\"[('item3','0.1'),(('item4','0.1'))]\"],\n",
    "      ['c',\"[('item5','0.1'),(('item6','0.1'))]\"]]\n",
    "df = pd.DataFrame(data, columns=['pin','vec'])\n",
    "df.head(10)"
   ]
  },
  {
   "cell_type": "code",
   "execution_count": 43,
   "metadata": {},
   "outputs": [
    {
     "data": {
      "text/html": [
       "<div>\n",
       "<style scoped>\n",
       "    .dataframe tbody tr th:only-of-type {\n",
       "        vertical-align: middle;\n",
       "    }\n",
       "\n",
       "    .dataframe tbody tr th {\n",
       "        vertical-align: top;\n",
       "    }\n",
       "\n",
       "    .dataframe thead th {\n",
       "        text-align: right;\n",
       "    }\n",
       "</style>\n",
       "<table border=\"1\" class=\"dataframe\">\n",
       "  <thead>\n",
       "    <tr style=\"text-align: right;\">\n",
       "      <th></th>\n",
       "      <th>pin</th>\n",
       "      <th>vec</th>\n",
       "      <th>v</th>\n",
       "      <th>ip</th>\n",
       "    </tr>\n",
       "  </thead>\n",
       "  <tbody>\n",
       "    <tr>\n",
       "      <th>0</th>\n",
       "      <td>a</td>\n",
       "      <td>[('item1','0.1'),('item2','0.1')]</td>\n",
       "      <td>NaN</td>\n",
       "      <td>NaN</td>\n",
       "    </tr>\n",
       "    <tr>\n",
       "      <th>1</th>\n",
       "      <td>b</td>\n",
       "      <td>[('item3','0.1'),(('item4','0.1'))]</td>\n",
       "      <td>NaN</td>\n",
       "      <td>NaN</td>\n",
       "    </tr>\n",
       "    <tr>\n",
       "      <th>2</th>\n",
       "      <td>c</td>\n",
       "      <td>[('item5','0.1'),(('item6','0.1'))]</td>\n",
       "      <td>NaN</td>\n",
       "      <td>NaN</td>\n",
       "    </tr>\n",
       "  </tbody>\n",
       "</table>\n",
       "</div>"
      ],
      "text/plain": [
       "  pin                                  vec   v  ip\n",
       "0   a    [('item1','0.1'),('item2','0.1')] NaN NaN\n",
       "1   b  [('item3','0.1'),(('item4','0.1'))] NaN NaN\n",
       "2   c  [('item5','0.1'),(('item6','0.1'))] NaN NaN"
      ]
     },
     "execution_count": 43,
     "metadata": {},
     "output_type": "execute_result"
    }
   ],
   "source": [
    "col_name=df.columns.tolist()\n",
    "col_name.insert(2,'v')\n",
    "col_name.insert(3,'ip')\n",
    "df1=df.reindex(columns=col_name)\n",
    "df1.head(10)"
   ]
  },
  {
   "cell_type": "code",
   "execution_count": 44,
   "metadata": {},
   "outputs": [
    {
     "name": "stdout",
     "output_type": "stream",
     "text": [
      "[('item1', '0.1'), ('item2', '0.1')]\n",
      "[('item3', '0.1'), ('item4', '0.1')]\n",
      "[('item5', '0.1'), ('item6', '0.1')]\n"
     ]
    },
    {
     "data": {
      "text/html": [
       "<div>\n",
       "<style scoped>\n",
       "    .dataframe tbody tr th:only-of-type {\n",
       "        vertical-align: middle;\n",
       "    }\n",
       "\n",
       "    .dataframe tbody tr th {\n",
       "        vertical-align: top;\n",
       "    }\n",
       "\n",
       "    .dataframe thead th {\n",
       "        text-align: right;\n",
       "    }\n",
       "</style>\n",
       "<table border=\"1\" class=\"dataframe\">\n",
       "  <thead>\n",
       "    <tr style=\"text-align: right;\">\n",
       "      <th></th>\n",
       "      <th>pin</th>\n",
       "      <th>vec</th>\n",
       "      <th>v</th>\n",
       "      <th>ip</th>\n",
       "    </tr>\n",
       "  </thead>\n",
       "  <tbody>\n",
       "    <tr>\n",
       "      <th>0</th>\n",
       "      <td>a</td>\n",
       "      <td>[('item1','0.1'),('item2','0.1')]</td>\n",
       "      <td>item1,item2</td>\n",
       "      <td>0.1,0.1</td>\n",
       "    </tr>\n",
       "    <tr>\n",
       "      <th>1</th>\n",
       "      <td>b</td>\n",
       "      <td>[('item3','0.1'),(('item4','0.1'))]</td>\n",
       "      <td>item3,item4</td>\n",
       "      <td>0.1,0.1</td>\n",
       "    </tr>\n",
       "    <tr>\n",
       "      <th>2</th>\n",
       "      <td>c</td>\n",
       "      <td>[('item5','0.1'),(('item6','0.1'))]</td>\n",
       "      <td>item5,item6</td>\n",
       "      <td>0.1,0.1</td>\n",
       "    </tr>\n",
       "  </tbody>\n",
       "</table>\n",
       "</div>"
      ],
      "text/plain": [
       "  pin                                  vec            v       ip\n",
       "0   a    [('item1','0.1'),('item2','0.1')]  item1,item2  0.1,0.1\n",
       "1   b  [('item3','0.1'),(('item4','0.1'))]  item3,item4  0.1,0.1\n",
       "2   c  [('item5','0.1'),(('item6','0.1'))]  item5,item6  0.1,0.1"
      ]
     },
     "execution_count": 44,
     "metadata": {},
     "output_type": "execute_result"
    }
   ],
   "source": [
    "vectors=df1['vec'].tolist()\n",
    "v=[]\n",
    "ip=[]\n",
    "for vec in vectors:\n",
    "    val=eval(vec)\n",
    "    print(val)\n",
    "    v.append(','.join([d[0] for d in val]))\n",
    "    ip.append(','.join([d[1] for d in val]))\n",
    "    \n",
    "df1['v']=v\n",
    "df1['ip']=ip\n",
    "df1.head(10)"
   ]
  },
  {
   "cell_type": "code",
   "execution_count": 45,
   "metadata": {},
   "outputs": [],
   "source": [
    "df1=df1.drop('vec', axis=1)"
   ]
  },
  {
   "cell_type": "code",
   "execution_count": 46,
   "metadata": {},
   "outputs": [
    {
     "data": {
      "text/html": [
       "<div>\n",
       "<style scoped>\n",
       "    .dataframe tbody tr th:only-of-type {\n",
       "        vertical-align: middle;\n",
       "    }\n",
       "\n",
       "    .dataframe tbody tr th {\n",
       "        vertical-align: top;\n",
       "    }\n",
       "\n",
       "    .dataframe thead th {\n",
       "        text-align: right;\n",
       "    }\n",
       "</style>\n",
       "<table border=\"1\" class=\"dataframe\">\n",
       "  <thead>\n",
       "    <tr style=\"text-align: right;\">\n",
       "      <th></th>\n",
       "      <th>pin</th>\n",
       "      <th>v</th>\n",
       "      <th>ip</th>\n",
       "    </tr>\n",
       "  </thead>\n",
       "  <tbody>\n",
       "    <tr>\n",
       "      <th>0</th>\n",
       "      <td>a</td>\n",
       "      <td>item1,item2</td>\n",
       "      <td>0.1,0.1</td>\n",
       "    </tr>\n",
       "    <tr>\n",
       "      <th>1</th>\n",
       "      <td>b</td>\n",
       "      <td>item3,item4</td>\n",
       "      <td>0.1,0.1</td>\n",
       "    </tr>\n",
       "    <tr>\n",
       "      <th>2</th>\n",
       "      <td>c</td>\n",
       "      <td>item5,item6</td>\n",
       "      <td>0.1,0.1</td>\n",
       "    </tr>\n",
       "  </tbody>\n",
       "</table>\n",
       "</div>"
      ],
      "text/plain": [
       "  pin            v       ip\n",
       "0   a  item1,item2  0.1,0.1\n",
       "1   b  item3,item4  0.1,0.1\n",
       "2   c  item5,item6  0.1,0.1"
      ]
     },
     "execution_count": 46,
     "metadata": {},
     "output_type": "execute_result"
    }
   ],
   "source": [
    "df1.head(10)"
   ]
  },
  {
   "cell_type": "code",
   "execution_count": 72,
   "metadata": {},
   "outputs": [],
   "source": [
    "compare_sql=\"\"\"\n",
    "\n",
    "select user_pin,'topn','{size}', if({topn1}={topn2},1,0),'2020-03-30' from (\n",
    "select t1.user_pin,\n",
    "split(t1.vec，',') as vec1,split(t2.vec，',') as vec2,t1.dt from dmc_dev.liuning11_test_ana_hotsearch_offline t1\n",
    "left join dmc_dev.liuning11_test_ana_hotsearch_realtime t2\n",
    "on(t1.user_pin=t2.user_pin and t1.dt=t2.dt)) t\n",
    "\n",
    "\"\"\"\n",
    "def create_slice(size,field_name):\n",
    "    v=['{f}[{i}]'.format(f=field_name,i=str(i)) for i in range(size)]\n",
    "    v=\"CONCAT_WS(',',{v})\".format(v=','.join(v))\n",
    "    return v\n",
    "        \n",
    "    "
   ]
  },
  {
   "cell_type": "code",
   "execution_count": 73,
   "metadata": {},
   "outputs": [
    {
     "name": "stdout",
     "output_type": "stream",
     "text": [
      "\n",
      "\n",
      "select user_pin,'topn','10', if(CONCAT_WS(',',vec1[0],vec1[1],vec1[2],vec1[3],vec1[4],vec1[5],vec1[6],vec1[7],vec1[8],vec1[9])=CONCAT_WS(',',vec2[0],vec2[1],vec2[2],vec2[3],vec2[4],vec2[5],vec2[6],vec2[7],vec2[8],vec2[9]),1,0),'2020-03-30' from (\n",
      "select t1.user_pin,\n",
      "split(t1.vec，',') as vec1,split(t2.vec，',') as vec2,t1.dt from dmc_dev.liuning11_test_ana_hotsearch_offline t1\n",
      "left join dmc_dev.liuning11_test_ana_hotsearch_realtime t2\n",
      "on(t1.user_pin=t2.user_pin and t1.dt=t2.dt)) t\n",
      "\n",
      "\n"
     ]
    }
   ],
   "source": [
    "sql=compare_sql.format(size=10,topn1=create_slice(10,'vec1'),topn2=create_slice(10,'vec2'))\n",
    "print(sql)"
   ]
  },
  {
   "cell_type": "code",
   "execution_count": null,
   "metadata": {},
   "outputs": [],
   "source": []
  }
 ],
 "metadata": {
  "kernelspec": {
   "display_name": "Python 3",
   "language": "python",
   "name": "python3"
  },
  "language_info": {
   "codemirror_mode": {
    "name": "ipython",
    "version": 3
   },
   "file_extension": ".py",
   "mimetype": "text/x-python",
   "name": "python",
   "nbconvert_exporter": "python",
   "pygments_lexer": "ipython3",
   "version": "3.7.5"
  }
 },
 "nbformat": 4,
 "nbformat_minor": 4
}

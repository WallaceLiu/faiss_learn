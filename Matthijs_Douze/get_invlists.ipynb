{
 "cells": [
  {
   "cell_type": "code",
   "execution_count": 23,
   "metadata": {},
   "outputs": [],
   "source": [
    "import numpy as np\n",
    "import faiss\n",
    "from matplotlib import pyplot"
   ]
  },
  {
   "cell_type": "code",
   "execution_count": 24,
   "metadata": {},
   "outputs": [],
   "source": [
    "# create an inverted index\n",
    "nlist = 1024\n",
    "m = 8\n",
    "k = 5\n",
    "d = 64\n",
    "coarse_quantizer = faiss.IndexFlatL2(d)\n",
    "index = faiss.IndexIVFPQ(coarse_quantizer, d, nlist, m, 8)"
   ]
  },
  {
   "cell_type": "code",
   "execution_count": 25,
   "metadata": {},
   "outputs": [],
   "source": [
    "# fill it in\n",
    "xb = faiss.rand((10000, d), 1234)\n",
    "index.train(xb)\n",
    "index.add(xb)"
   ]
  },
  {
   "cell_type": "code",
   "execution_count": 26,
   "metadata": {},
   "outputs": [],
   "source": [
    "# if there is a pre-transform, you can also use\n",
    "# invlists = faiss.extract_index_ivf(index).invlists\n",
    "invlists = index.invlists"
   ]
  },
  {
   "cell_type": "code",
   "execution_count": 27,
   "metadata": {},
   "outputs": [
    {
     "data": {
      "image/png": "[encoded data removed]",
      "text/plain": [
       "<Figure size 432x288 with 1 Axes>"
      ]
     },
     "metadata": {
      "needs_background": "light"
     },
     "output_type": "display_data"
    }
   ],
   "source": [
    "# invlist sizes histogram\n",
    "bc = np.bincount([invlists.list_size(l) for l in range(invlists.nlist)])\n",
    "pyplot.step(np.arange(bc.size), bc)\n",
    "pyplot.xlabel('size of invlist')\n",
    "pyplot.ylabel('nb of invlists')\n",
    "pyplot.grid()"
   ]
  },
  {
   "cell_type": "code",
   "execution_count": 28,
   "metadata": {},
   "outputs": [],
   "source": [
    "def get_invlist(invlists, l):\n",
    "    \"\"\" returns the inverted lists content. \n",
    "    That the data is *not* copied: if the inverted index is deallocated or changes, accessing the array may crash.\n",
    "    To avoid this, just clone the output arrays on output. \"\"\"\n",
    "    ls = invlists.list_size(l)\n",
    "    list_ids = faiss.rev_swig_ptr(invlists.get_ids(l), ls)\n",
    "    list_codes = faiss.rev_swig_ptr(invlists.get_codes(l), ls * invlists.code_size)\n",
    "    return list_ids, list_codes"
   ]
  },
  {
   "cell_type": "code",
   "execution_count": 31,
   "metadata": {},
   "outputs": [],
   "source": [
    "# get content of inverted list #123\n",
    "list_ids, list_codes = get_invlist(invlists, 124)"
   ]
  },
  {
   "cell_type": "code",
   "execution_count": 32,
   "metadata": {},
   "outputs": [
    {
     "data": {
      "text/plain": [
       "array([ 375,  764, 1691, 1736, 2281, 2532, 2573, 2758, 3711, 3791, 6206,\n",
       "       7364, 8009, 8828, 8849, 8865, 8988])"
      ]
     },
     "execution_count": 32,
     "metadata": {},
     "output_type": "execute_result"
    }
   ],
   "source": [
    "# vector ids in the list\n",
    "list_ids"
   ]
  },
  {
   "cell_type": "code",
   "execution_count": 36,
   "metadata": {},
   "outputs": [
    {
     "data": {
      "text/plain": [
       "array([[124],\n",
       "       [124]])"
      ]
     },
     "execution_count": 36,
     "metadata": {},
     "output_type": "execute_result"
    }
   ],
   "source": [
    "# check that vectors 375 and 764 are indeed quantized to list 124\n",
    "coarse_quantizer.assign(xb[[375, 764]], 1)"
   ]
  },
  {
   "cell_type": "code",
   "execution_count": 37,
   "metadata": {},
   "outputs": [
    {
     "data": {
      "text/plain": [
       "array([[135,  86, 175, 251, 122, 220,   0, 250],\n",
       "       [ 22, 168, 238, 229, 218,  24,  93, 209],\n",
       "       [226,  69,  61,  81, 162,  71, 218, 237],\n",
       "       [130, 201,  27, 255,   8,  85, 177, 104],\n",
       "       [ 53, 234, 190, 153, 109, 126,  54,  64],\n",
       "       [124, 124,  34, 124, 205, 124, 124,  54],\n",
       "       [ 92, 225, 123, 105, 152, 116,  26, 118],\n",
       "       [100, 118, 163, 109, 160, 130, 109, 210],\n",
       "       [114, 236,  59,  14, 183, 243, 186, 154],\n",
       "       [160,  95,   1,  31,  23,  82, 232, 251],\n",
       "       [ 98, 235,  85, 201,  87, 231, 139,   1],\n",
       "       [ 42,  58,  54,  51,  13, 217,  23, 217],\n",
       "       [240, 155,  77, 147,  29, 216, 216, 103],\n",
       "       [150, 163,  70,  80, 187,  14, 202, 237],\n",
       "       [ 84,  60,  29,  76, 107, 103, 180,  63],\n",
       "       [ 58, 150,   5, 216, 136,   3,  74,  53],\n",
       "       [ 54, 241,  31, 126, 195,  38,  63, 148]], dtype=uint8)"
      ]
     },
     "execution_count": 37,
     "metadata": {},
     "output_type": "execute_result"
    }
   ],
   "source": [
    "# PQ codes stored in the inverted lists\n",
    "list_codes.reshape(-1, invlists.code_size)"
   ]
  },
  {
   "cell_type": "code",
   "execution_count": null,
   "metadata": {},
   "outputs": [],
   "source": []
  }
 ],
 "metadata": {
  "kernelspec": {
   "display_name": "Python 3",
   "language": "python",
   "name": "python3"
  },
  "language_info": {
   "codemirror_mode": {
    "name": "ipython",
    "version": 3
   },
   "file_extension": ".py",
   "mimetype": "text/x-python",
   "name": "python",
   "nbconvert_exporter": "python",
   "pygments_lexer": "ipython3",
   "version": "3.7.4"
  }
 },
 "nbformat": 4,
 "nbformat_minor": 2
}
